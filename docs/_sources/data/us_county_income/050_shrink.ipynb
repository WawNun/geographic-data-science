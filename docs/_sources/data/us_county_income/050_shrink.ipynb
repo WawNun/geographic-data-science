{
 "cells": [
  {
   "cell_type": "code",
   "execution_count": 1,
   "metadata": {},
   "outputs": [],
   "source": [
    "import geopandas\n",
    "import pandas"
   ]
  },
  {
   "cell_type": "code",
   "execution_count": 2,
   "metadata": {},
   "outputs": [],
   "source": [
    "gdf = geopandas.read_file('usincome_final.shp')"
   ]
  },
  {
   "cell_type": "code",
   "execution_count": 3,
   "metadata": {},
   "outputs": [
    {
     "data": {
      "text/html": [
       "<div>\n",
       "<style scoped>\n",
       "    .dataframe tbody tr th:only-of-type {\n",
       "        vertical-align: middle;\n",
       "    }\n",
       "\n",
       "    .dataframe tbody tr th {\n",
       "        vertical-align: top;\n",
       "    }\n",
       "\n",
       "    .dataframe thead th {\n",
       "        text-align: right;\n",
       "    }\n",
       "</style>\n",
       "<table border=\"1\" class=\"dataframe\">\n",
       "  <thead>\n",
       "    <tr style=\"text-align: right;\">\n",
       "      <th></th>\n",
       "      <th>STATEFP</th>\n",
       "      <th>COUNTYFP</th>\n",
       "      <th>COUNTYNS</th>\n",
       "      <th>GEOID</th>\n",
       "      <th>NAME</th>\n",
       "      <th>NAMELSAD</th>\n",
       "      <th>LSAD</th>\n",
       "      <th>CLASSFP</th>\n",
       "      <th>MTFCC</th>\n",
       "      <th>CSAFP</th>\n",
       "      <th>...</th>\n",
       "      <th>2012</th>\n",
       "      <th>2013</th>\n",
       "      <th>2014</th>\n",
       "      <th>2015</th>\n",
       "      <th>2016</th>\n",
       "      <th>2017</th>\n",
       "      <th>index</th>\n",
       "      <th>IndustryCl</th>\n",
       "      <th>Descript_1</th>\n",
       "      <th>geometry</th>\n",
       "    </tr>\n",
       "  </thead>\n",
       "  <tbody>\n",
       "    <tr>\n",
       "      <th>0</th>\n",
       "      <td>55</td>\n",
       "      <td>111</td>\n",
       "      <td>01581115</td>\n",
       "      <td>55111</td>\n",
       "      <td>Sauk</td>\n",
       "      <td>Sauk County</td>\n",
       "      <td>06</td>\n",
       "      <td>H1</td>\n",
       "      <td>G4020</td>\n",
       "      <td>357</td>\n",
       "      <td>...</td>\n",
       "      <td>2495867</td>\n",
       "      <td>2553889</td>\n",
       "      <td>2688269</td>\n",
       "      <td>2800980</td>\n",
       "      <td>2832908</td>\n",
       "      <td>2933322</td>\n",
       "      <td>NaN</td>\n",
       "      <td>None</td>\n",
       "      <td>None</td>\n",
       "      <td>POLYGON ((-90.19196 43.55500, -90.19676 43.554...</td>\n",
       "    </tr>\n",
       "    <tr>\n",
       "      <th>1</th>\n",
       "      <td>55</td>\n",
       "      <td>111</td>\n",
       "      <td>01581115</td>\n",
       "      <td>55111</td>\n",
       "      <td>Sauk</td>\n",
       "      <td>Sauk County</td>\n",
       "      <td>06</td>\n",
       "      <td>H1</td>\n",
       "      <td>G4020</td>\n",
       "      <td>357</td>\n",
       "      <td>...</td>\n",
       "      <td>62415</td>\n",
       "      <td>62818</td>\n",
       "      <td>63005</td>\n",
       "      <td>63292</td>\n",
       "      <td>63604</td>\n",
       "      <td>63981</td>\n",
       "      <td>NaN</td>\n",
       "      <td>None</td>\n",
       "      <td>None</td>\n",
       "      <td>POLYGON ((-90.19196 43.55500, -90.19676 43.554...</td>\n",
       "    </tr>\n",
       "    <tr>\n",
       "      <th>2</th>\n",
       "      <td>55</td>\n",
       "      <td>111</td>\n",
       "      <td>01581115</td>\n",
       "      <td>55111</td>\n",
       "      <td>Sauk</td>\n",
       "      <td>Sauk County</td>\n",
       "      <td>06</td>\n",
       "      <td>H1</td>\n",
       "      <td>G4020</td>\n",
       "      <td>357</td>\n",
       "      <td>...</td>\n",
       "      <td>39988</td>\n",
       "      <td>40655</td>\n",
       "      <td>42668</td>\n",
       "      <td>44255</td>\n",
       "      <td>44540</td>\n",
       "      <td>45847</td>\n",
       "      <td>NaN</td>\n",
       "      <td>None</td>\n",
       "      <td>None</td>\n",
       "      <td>POLYGON ((-90.19196 43.55500, -90.19676 43.554...</td>\n",
       "    </tr>\n",
       "    <tr>\n",
       "      <th>3</th>\n",
       "      <td>55</td>\n",
       "      <td>093</td>\n",
       "      <td>01581107</td>\n",
       "      <td>55093</td>\n",
       "      <td>Pierce</td>\n",
       "      <td>Pierce County</td>\n",
       "      <td>06</td>\n",
       "      <td>H1</td>\n",
       "      <td>G4020</td>\n",
       "      <td>378</td>\n",
       "      <td>...</td>\n",
       "      <td>1592435</td>\n",
       "      <td>1605327</td>\n",
       "      <td>1706776</td>\n",
       "      <td>1785974</td>\n",
       "      <td>1801618</td>\n",
       "      <td>1870308</td>\n",
       "      <td>NaN</td>\n",
       "      <td>None</td>\n",
       "      <td>None</td>\n",
       "      <td>POLYGON ((-92.69454 44.68874, -92.69466 44.688...</td>\n",
       "    </tr>\n",
       "    <tr>\n",
       "      <th>4</th>\n",
       "      <td>55</td>\n",
       "      <td>093</td>\n",
       "      <td>01581107</td>\n",
       "      <td>55093</td>\n",
       "      <td>Pierce</td>\n",
       "      <td>Pierce County</td>\n",
       "      <td>06</td>\n",
       "      <td>H1</td>\n",
       "      <td>G4020</td>\n",
       "      <td>378</td>\n",
       "      <td>...</td>\n",
       "      <td>40705</td>\n",
       "      <td>40778</td>\n",
       "      <td>41003</td>\n",
       "      <td>41020</td>\n",
       "      <td>41428</td>\n",
       "      <td>41901</td>\n",
       "      <td>NaN</td>\n",
       "      <td>None</td>\n",
       "      <td>None</td>\n",
       "      <td>POLYGON ((-92.69454 44.68874, -92.69466 44.688...</td>\n",
       "    </tr>\n",
       "  </tbody>\n",
       "</table>\n",
       "<p>5 rows × 77 columns</p>\n",
       "</div>"
      ],
      "text/plain": [
       "  STATEFP COUNTYFP  COUNTYNS  GEOID    NAME       NAMELSAD LSAD CLASSFP  \\\n",
       "0      55      111  01581115  55111    Sauk    Sauk County   06      H1   \n",
       "1      55      111  01581115  55111    Sauk    Sauk County   06      H1   \n",
       "2      55      111  01581115  55111    Sauk    Sauk County   06      H1   \n",
       "3      55      093  01581107  55093  Pierce  Pierce County   06      H1   \n",
       "4      55      093  01581107  55093  Pierce  Pierce County   06      H1   \n",
       "\n",
       "   MTFCC CSAFP  ...     2012     2013     2014     2015     2016     2017  \\\n",
       "0  G4020   357  ...  2495867  2553889  2688269  2800980  2832908  2933322   \n",
       "1  G4020   357  ...    62415    62818    63005    63292    63604    63981   \n",
       "2  G4020   357  ...    39988    40655    42668    44255    44540    45847   \n",
       "3  G4020   378  ...  1592435  1605327  1706776  1785974  1801618  1870308   \n",
       "4  G4020   378  ...    40705    40778    41003    41020    41428    41901   \n",
       "\n",
       "  index IndustryCl Descript_1  \\\n",
       "0   NaN       None       None   \n",
       "1   NaN       None       None   \n",
       "2   NaN       None       None   \n",
       "3   NaN       None       None   \n",
       "4   NaN       None       None   \n",
       "\n",
       "                                            geometry  \n",
       "0  POLYGON ((-90.19196 43.55500, -90.19676 43.554...  \n",
       "1  POLYGON ((-90.19196 43.55500, -90.19676 43.554...  \n",
       "2  POLYGON ((-90.19196 43.55500, -90.19676 43.554...  \n",
       "3  POLYGON ((-92.69454 44.68874, -92.69466 44.688...  \n",
       "4  POLYGON ((-92.69454 44.68874, -92.69466 44.688...  \n",
       "\n",
       "[5 rows x 77 columns]"
      ]
     },
     "execution_count": 3,
     "metadata": {},
     "output_type": "execute_result"
    }
   ],
   "source": [
    "gdf.head()"
   ]
  },
  {
   "cell_type": "markdown",
   "metadata": {},
   "source": [
    "## Shrinking file size\n",
    "We are duplicating the shapes three times (once for each attribute)\n",
    "\n",
    "Split out the attributes from the geometries, two different dataframes"
   ]
  },
  {
   "cell_type": "code",
   "execution_count": 4,
   "metadata": {},
   "outputs": [],
   "source": [
    "uscountyincome = pandas.DataFrame(gdf.drop(columns='geometry'))"
   ]
  },
  {
   "cell_type": "code",
   "execution_count": 5,
   "metadata": {},
   "outputs": [],
   "source": [
    "uscountyincome.to_csv('uscountyincome.csv')"
   ]
  },
  {
   "cell_type": "code",
   "execution_count": 6,
   "metadata": {},
   "outputs": [
    {
     "data": {
      "text/html": [
       "<div>\n",
       "<style scoped>\n",
       "    .dataframe tbody tr th:only-of-type {\n",
       "        vertical-align: middle;\n",
       "    }\n",
       "\n",
       "    .dataframe tbody tr th {\n",
       "        vertical-align: top;\n",
       "    }\n",
       "\n",
       "    .dataframe thead th {\n",
       "        text-align: right;\n",
       "    }\n",
       "</style>\n",
       "<table border=\"1\" class=\"dataframe\">\n",
       "  <thead>\n",
       "    <tr style=\"text-align: right;\">\n",
       "      <th></th>\n",
       "      <th>STATEFP</th>\n",
       "      <th>COUNTYFP</th>\n",
       "      <th>COUNTYNS</th>\n",
       "      <th>GEOID</th>\n",
       "      <th>NAME</th>\n",
       "      <th>NAMELSAD</th>\n",
       "      <th>LSAD</th>\n",
       "      <th>CLASSFP</th>\n",
       "      <th>MTFCC</th>\n",
       "      <th>CSAFP</th>\n",
       "      <th>...</th>\n",
       "      <th>2012</th>\n",
       "      <th>2013</th>\n",
       "      <th>2014</th>\n",
       "      <th>2015</th>\n",
       "      <th>2016</th>\n",
       "      <th>2017</th>\n",
       "      <th>index</th>\n",
       "      <th>IndustryCl</th>\n",
       "      <th>Descript_1</th>\n",
       "      <th>geometry</th>\n",
       "    </tr>\n",
       "  </thead>\n",
       "  <tbody>\n",
       "    <tr>\n",
       "      <th>0</th>\n",
       "      <td>55</td>\n",
       "      <td>111</td>\n",
       "      <td>01581115</td>\n",
       "      <td>55111</td>\n",
       "      <td>Sauk</td>\n",
       "      <td>Sauk County</td>\n",
       "      <td>06</td>\n",
       "      <td>H1</td>\n",
       "      <td>G4020</td>\n",
       "      <td>357</td>\n",
       "      <td>...</td>\n",
       "      <td>2495867</td>\n",
       "      <td>2553889</td>\n",
       "      <td>2688269</td>\n",
       "      <td>2800980</td>\n",
       "      <td>2832908</td>\n",
       "      <td>2933322</td>\n",
       "      <td>NaN</td>\n",
       "      <td>None</td>\n",
       "      <td>None</td>\n",
       "      <td>POLYGON ((-90.19196 43.55500, -90.19676 43.554...</td>\n",
       "    </tr>\n",
       "    <tr>\n",
       "      <th>1</th>\n",
       "      <td>55</td>\n",
       "      <td>111</td>\n",
       "      <td>01581115</td>\n",
       "      <td>55111</td>\n",
       "      <td>Sauk</td>\n",
       "      <td>Sauk County</td>\n",
       "      <td>06</td>\n",
       "      <td>H1</td>\n",
       "      <td>G4020</td>\n",
       "      <td>357</td>\n",
       "      <td>...</td>\n",
       "      <td>62415</td>\n",
       "      <td>62818</td>\n",
       "      <td>63005</td>\n",
       "      <td>63292</td>\n",
       "      <td>63604</td>\n",
       "      <td>63981</td>\n",
       "      <td>NaN</td>\n",
       "      <td>None</td>\n",
       "      <td>None</td>\n",
       "      <td>POLYGON ((-90.19196 43.55500, -90.19676 43.554...</td>\n",
       "    </tr>\n",
       "    <tr>\n",
       "      <th>2</th>\n",
       "      <td>55</td>\n",
       "      <td>111</td>\n",
       "      <td>01581115</td>\n",
       "      <td>55111</td>\n",
       "      <td>Sauk</td>\n",
       "      <td>Sauk County</td>\n",
       "      <td>06</td>\n",
       "      <td>H1</td>\n",
       "      <td>G4020</td>\n",
       "      <td>357</td>\n",
       "      <td>...</td>\n",
       "      <td>39988</td>\n",
       "      <td>40655</td>\n",
       "      <td>42668</td>\n",
       "      <td>44255</td>\n",
       "      <td>44540</td>\n",
       "      <td>45847</td>\n",
       "      <td>NaN</td>\n",
       "      <td>None</td>\n",
       "      <td>None</td>\n",
       "      <td>POLYGON ((-90.19196 43.55500, -90.19676 43.554...</td>\n",
       "    </tr>\n",
       "    <tr>\n",
       "      <th>3</th>\n",
       "      <td>55</td>\n",
       "      <td>093</td>\n",
       "      <td>01581107</td>\n",
       "      <td>55093</td>\n",
       "      <td>Pierce</td>\n",
       "      <td>Pierce County</td>\n",
       "      <td>06</td>\n",
       "      <td>H1</td>\n",
       "      <td>G4020</td>\n",
       "      <td>378</td>\n",
       "      <td>...</td>\n",
       "      <td>1592435</td>\n",
       "      <td>1605327</td>\n",
       "      <td>1706776</td>\n",
       "      <td>1785974</td>\n",
       "      <td>1801618</td>\n",
       "      <td>1870308</td>\n",
       "      <td>NaN</td>\n",
       "      <td>None</td>\n",
       "      <td>None</td>\n",
       "      <td>POLYGON ((-92.69454 44.68874, -92.69466 44.688...</td>\n",
       "    </tr>\n",
       "    <tr>\n",
       "      <th>4</th>\n",
       "      <td>55</td>\n",
       "      <td>093</td>\n",
       "      <td>01581107</td>\n",
       "      <td>55093</td>\n",
       "      <td>Pierce</td>\n",
       "      <td>Pierce County</td>\n",
       "      <td>06</td>\n",
       "      <td>H1</td>\n",
       "      <td>G4020</td>\n",
       "      <td>378</td>\n",
       "      <td>...</td>\n",
       "      <td>40705</td>\n",
       "      <td>40778</td>\n",
       "      <td>41003</td>\n",
       "      <td>41020</td>\n",
       "      <td>41428</td>\n",
       "      <td>41901</td>\n",
       "      <td>NaN</td>\n",
       "      <td>None</td>\n",
       "      <td>None</td>\n",
       "      <td>POLYGON ((-92.69454 44.68874, -92.69466 44.688...</td>\n",
       "    </tr>\n",
       "  </tbody>\n",
       "</table>\n",
       "<p>5 rows × 77 columns</p>\n",
       "</div>"
      ],
      "text/plain": [
       "  STATEFP COUNTYFP  COUNTYNS  GEOID    NAME       NAMELSAD LSAD CLASSFP  \\\n",
       "0      55      111  01581115  55111    Sauk    Sauk County   06      H1   \n",
       "1      55      111  01581115  55111    Sauk    Sauk County   06      H1   \n",
       "2      55      111  01581115  55111    Sauk    Sauk County   06      H1   \n",
       "3      55      093  01581107  55093  Pierce  Pierce County   06      H1   \n",
       "4      55      093  01581107  55093  Pierce  Pierce County   06      H1   \n",
       "\n",
       "   MTFCC CSAFP  ...     2012     2013     2014     2015     2016     2017  \\\n",
       "0  G4020   357  ...  2495867  2553889  2688269  2800980  2832908  2933322   \n",
       "1  G4020   357  ...    62415    62818    63005    63292    63604    63981   \n",
       "2  G4020   357  ...    39988    40655    42668    44255    44540    45847   \n",
       "3  G4020   378  ...  1592435  1605327  1706776  1785974  1801618  1870308   \n",
       "4  G4020   378  ...    40705    40778    41003    41020    41428    41901   \n",
       "\n",
       "  index IndustryCl Descript_1  \\\n",
       "0   NaN       None       None   \n",
       "1   NaN       None       None   \n",
       "2   NaN       None       None   \n",
       "3   NaN       None       None   \n",
       "4   NaN       None       None   \n",
       "\n",
       "                                            geometry  \n",
       "0  POLYGON ((-90.19196 43.55500, -90.19676 43.554...  \n",
       "1  POLYGON ((-90.19196 43.55500, -90.19676 43.554...  \n",
       "2  POLYGON ((-90.19196 43.55500, -90.19676 43.554...  \n",
       "3  POLYGON ((-92.69454 44.68874, -92.69466 44.688...  \n",
       "4  POLYGON ((-92.69454 44.68874, -92.69466 44.688...  \n",
       "\n",
       "[5 rows x 77 columns]"
      ]
     },
     "execution_count": 6,
     "metadata": {},
     "output_type": "execute_result"
    }
   ],
   "source": [
    "gdf.head()"
   ]
  },
  {
   "cell_type": "code",
   "execution_count": 7,
   "metadata": {},
   "outputs": [],
   "source": [
    "gdf = gdf[gdf.LineCode==3]"
   ]
  },
  {
   "cell_type": "code",
   "execution_count": 8,
   "metadata": {},
   "outputs": [
    {
     "data": {
      "text/plain": [
       "(3076, 77)"
      ]
     },
     "execution_count": 8,
     "metadata": {},
     "output_type": "execute_result"
    }
   ],
   "source": [
    "gdf.shape"
   ]
  },
  {
   "cell_type": "code",
   "execution_count": 9,
   "metadata": {},
   "outputs": [
    {
     "name": "stdout",
     "output_type": "stream",
     "text": [
      "Populating the interactive namespace from numpy and matplotlib\n"
     ]
    }
   ],
   "source": [
    "%pylab inline"
   ]
  },
  {
   "cell_type": "code",
   "execution_count": 10,
   "metadata": {},
   "outputs": [
    {
     "data": {
      "text/plain": [
       "<AxesSubplot:>"
      ]
     },
     "execution_count": 10,
     "metadata": {},
     "output_type": "execute_result"
    },
    {
     "data": {
      "image/png": "[encoded data removed]",
      "text/plain": [
       "<Figure size 432x288 with 1 Axes>"
      ]
     },
     "metadata": {
      "needs_background": "light"
     },
     "output_type": "display_data"
    }
   ],
   "source": [
    "gdf.plot(column='2017')"
   ]
  },
  {
   "cell_type": "code",
   "execution_count": 11,
   "metadata": {},
   "outputs": [],
   "source": [
    "gdf.to_file(\"uscountypcincome.gpkg\", layer='pcincome', driver=\"GPKG\")"
   ]
  },
  {
   "cell_type": "code",
   "execution_count": 12,
   "metadata": {},
   "outputs": [
    {
     "data": {
      "text/plain": [
       "Index(['STATEFP', 'COUNTYFP', 'COUNTYNS', 'GEOID', 'NAME', 'NAMELSAD', 'LSAD',\n",
       "       'CLASSFP', 'MTFCC', 'CSAFP', 'CBSAFP', 'METDIVFP', 'FUNCSTAT', 'ALAND',\n",
       "       'AWATER', 'INTPTLAT', 'INTPTLON', 'GeoFIPS', 'GeoName', 'Region',\n",
       "       'TableName', 'LineCode', 'Descriptio', 'Unit', '1969', '1970', '1971',\n",
       "       '1972', '1973', '1974', '1975', '1976', '1977', '1978', '1979', '1980',\n",
       "       '1981', '1982', '1983', '1984', '1985', '1986', '1987', '1988', '1989',\n",
       "       '1990', '1991', '1992', '1993', '1994', '1995', '1996', '1997', '1998',\n",
       "       '1999', '2000', '2001', '2002', '2003', '2004', '2005', '2006', '2007',\n",
       "       '2008', '2009', '2010', '2011', '2012', '2013', '2014', '2015', '2016',\n",
       "       '2017', 'index', 'IndustryCl', 'Descript_1', 'geometry'],\n",
       "      dtype='object')"
      ]
     },
     "execution_count": 12,
     "metadata": {},
     "output_type": "execute_result"
    }
   ],
   "source": [
    "gdf.columns"
   ]
  },
  {
   "cell_type": "code",
   "execution_count": 13,
   "metadata": {},
   "outputs": [
    {
     "data": {
      "text/plain": [
       "(3076, 77)"
      ]
     },
     "execution_count": 13,
     "metadata": {},
     "output_type": "execute_result"
    }
   ],
   "source": [
    "gdf.shape"
   ]
  }
 ],
 "metadata": {
  "kernelspec": {
   "display_name": "Python 3",
   "language": "python",
   "name": "python3"
  },
  "language_info": {
   "codemirror_mode": {
    "name": "ipython",
    "version": 3
   },
   "file_extension": ".py",
   "mimetype": "text/x-python",
   "name": "python",
   "nbconvert_exporter": "python",
   "pygments_lexer": "ipython3",
   "version": "3.8.6"
  }
 },
 "nbformat": 4,
 "nbformat_minor": 4
}

{
 "cells": [
  {
   "cell_type": "markdown",
   "metadata": {},
   "source": [
    "# Choropleth mapping\n",
    "\n",
    "\n"
   ]
  },
  {
   "cell_type": "markdown",
   "metadata": {},
   "source": [
    "## Principles\n",
    "\n",
    "\n",
    "Choropleth maps play a prominent role in geographic data science as they allow us to display non-geographic attributes or variables on a geographic map. The word\n",
    "choropleth stems from the root \"choro\", meaning \"region\". As such choropleth maps\n",
    "represent data at the region level, and\n",
    "are appropriate for areal unit data where each observation combines a value of\n",
    "an attribute and a geometric figure, usually a polygon. Choropleth maps derive from an earlier era where\n",
    "cartographers faced technological constraints that precluded the use of\n",
    "unclassed maps where each unique attribute value could be represented by a\n",
    "distinct symbol or color. Instead, attribute values were grouped into a smaller number of\n",
    "classes, usually not more than 12. Each class was associated with a unique symbol that was in turn\n",
    "applied to all observations with attribute values falling in the class.\n",
    "\n",
    "Although today these technological constraints are no longer binding, and\n",
    "unclassed mapping is feasible, there are still good reasons for adopting a\n",
    "classed approach. Chief among these is to reduce the cognitive load involved in\n",
    "parsing the complexity of an unclassed map. A choropleth map reduces this\n",
    "complexity by drawing upon statistical and visualization theory to provide an\n",
    "effective representation of the spatial distribution of the attribute values\n",
    "across the areal units. \n",
    "\n",
    "The effectiveness of a choropleth map will be a\n",
    "function of the choice of classification scheme together with the color or\n",
    "symbolization strategy adopted. In broad terms, the classification scheme\n",
    "defines the number of classes as well as the rules for assignment, while the\n",
    "symbolization should convey information about the value differentiation across\n",
    "the classes.\n",
    "\n",
    "In this chapter we first discuss the approaches used to classify\n",
    "attribute values. This is followed by an overview of color theory and the\n",
    "implications of different color schemes for effective map design. We  combine\n",
    "theory and practice by exploring how these concepts are implemented in different Python packages, including `geopandas`, and `PySAL`.\n",
    "\n",
    "\n"
   ]
  },
  {
   "cell_type": "code",
   "execution_count": 1,
   "metadata": {},
   "outputs": [],
   "source": [
    "%matplotlib inline\n",
    "\n",
    "import seaborn\n",
    "import pandas\n",
    "import geopandas\n",
    "import pysal\n",
    "import numpy\n",
    "from booktools import choropleth\n",
    "import mapclassify\n",
    "import matplotlib.pyplot as plt"
   ]
  },
  {
   "cell_type": "markdown",
   "metadata": {},
   "source": [
    "## Quantitative data classification \n",
    "\n",
    "Data classification considers the problem of \n",
    "partitioning the attribute values into mutually exclusive and exhaustive\n",
    "groups. The precise manner in which this is done will be a function of the\n",
    "measurement scale of the attribute in question. For quantitative attributes\n",
    "(ordinal, interval, ratio scales) the classes will have an explicit ordering.\n",
    "More formally, the classification problem is to define class boundaries such\n",
    "that\n",
    "$$\n",
    "c_j < y_i \\le  c_{j+1} \\ \\forall y_i \\in C_{j+1}\n",
    "$$\n",
    "where $y_i$ is the\n",
    "value of the attribute for spatial location $i$, $j$ is a class index, and $c_j$\n",
    "represents the lower bound of interval $j$.\n",
    "\n",
    "Different classification schemes obtain from their definition of the class\n",
    "boundaries. The choice of the classification scheme should take into\n",
    "consideration the statistical distribution of the attribute values.\n",
    "\n",
    "To illustrate these considerations, we will examine regional income data for the\n",
    "32 Mexican states. The variable we focus on is per capita gross domestic product\n",
    "for 1940 (PCGDP1940):"
   ]
  },
  {
   "cell_type": "code",
   "execution_count": 2,
   "metadata": {},
   "outputs": [
    {
     "data": {
      "text/html": [
       "<div>\n",
       "<style scoped>\n",
       "    .dataframe tbody tr th:only-of-type {\n",
       "        vertical-align: middle;\n",
       "    }\n",
       "\n",
       "    .dataframe tbody tr th {\n",
       "        vertical-align: top;\n",
       "    }\n",
       "\n",
       "    .dataframe thead th {\n",
       "        text-align: right;\n",
       "    }\n",
       "</style>\n",
       "<table border=\"1\" class=\"dataframe\">\n",
       "  <thead>\n",
       "    <tr style=\"text-align: right;\">\n",
       "      <th></th>\n",
       "      <th>NAME</th>\n",
       "      <th>PCGDP1940</th>\n",
       "    </tr>\n",
       "  </thead>\n",
       "  <tbody>\n",
       "    <tr>\n",
       "      <th>0</th>\n",
       "      <td>Baja California Norte</td>\n",
       "      <td>22361.0</td>\n",
       "    </tr>\n",
       "    <tr>\n",
       "      <th>1</th>\n",
       "      <td>Baja California Sur</td>\n",
       "      <td>9573.0</td>\n",
       "    </tr>\n",
       "    <tr>\n",
       "      <th>2</th>\n",
       "      <td>Nayarit</td>\n",
       "      <td>4836.0</td>\n",
       "    </tr>\n",
       "    <tr>\n",
       "      <th>3</th>\n",
       "      <td>Jalisco</td>\n",
       "      <td>5309.0</td>\n",
       "    </tr>\n",
       "    <tr>\n",
       "      <th>4</th>\n",
       "      <td>Aguascalientes</td>\n",
       "      <td>10384.0</td>\n",
       "    </tr>\n",
       "  </tbody>\n",
       "</table>\n",
       "</div>"
      ],
      "text/plain": [
       "                    NAME  PCGDP1940\n",
       "0  Baja California Norte    22361.0\n",
       "1    Baja California Sur     9573.0\n",
       "2                Nayarit     4836.0\n",
       "3                Jalisco     5309.0\n",
       "4         Aguascalientes    10384.0"
      ]
     },
     "execution_count": 2,
     "metadata": {},
     "output_type": "execute_result"
    }
   ],
   "source": [
    "mx = geopandas.read_file(\"../data/mexicojoin.shp\")\n",
    "mx[['NAME', 'PCGDP1940']].head()"
   ]
  },
  {
   "cell_type": "markdown",
   "metadata": {},
   "source": [
    "Which displays the following statistical distribution:"
   ]
  },
  {
   "cell_type": "code",
   "execution_count": 3,
   "metadata": {},
   "outputs": [
    {
     "data": {
      "image/png": "[encoded data removed]",
      "text/plain": [
       "<Figure size 432x288 with 1 Axes>"
      ]
     },
     "metadata": {
      "needs_background": "light"
     },
     "output_type": "display_data"
    }
   ],
   "source": [
    "h = seaborn.distplot(mx['PCGDP1940'], bins=5, rug=True);"
   ]
  },
  {
   "cell_type": "markdown",
   "metadata": {},
   "source": [
    "As we can see, the distribution is positively skewed as in common in regional income studies. In other words,\n",
    "the mean exceeds the median (`50%`, in the table below), leading the to fat right tail in the figure. As\n",
    "we shall see, this skewness will have implications for the choice of choropleth\n",
    "classification scheme."
   ]
  },
  {
   "cell_type": "code",
   "execution_count": 4,
   "metadata": {},
   "outputs": [
    {
     "data": {
      "text/plain": [
       "count       32.000000\n",
       "mean      7230.531250\n",
       "std       5204.952883\n",
       "min       1892.000000\n",
       "25%       3701.750000\n",
       "50%       5256.000000\n",
       "75%       8701.750000\n",
       "max      22361.000000\n",
       "Name: PCGDP1940, dtype: float64"
      ]
     },
     "execution_count": 4,
     "metadata": {},
     "output_type": "execute_result"
    }
   ],
   "source": [
    "mx['PCGDP1940'].describe()"
   ]
  },
  {
   "cell_type": "markdown",
   "metadata": {},
   "source": [
    "### Classification schemes\n",
    "\n",
    "For quantitative attributes we first sort the data by their value,\n",
    "such that $x_0 \\le x_2 \\ldots \\le x_{n-1}$. For a prespecified number of classes\n",
    "$k$, the classification problem boils down to selection of $k-1$ break points\n",
    "along the sorted values that separate the values into mutually exclusive and\n",
    "exhaustive groups.\n",
    "\n",
    "In fact, the determination of the histogram above can\n",
    "be viewed as one approach to this selection.\n",
    "The method `seaborn.distplot` uses the matplotlib `hist`\n",
    "function under the hood to determine the class boundaries and the counts of\n",
    "observations in each class. In the figure, we have five classes which can be\n",
    "extracted with an explicit call to the `hist` function:"
   ]
  },
  {
   "cell_type": "code",
   "execution_count": 5,
   "metadata": {},
   "outputs": [],
   "source": [
    "counts, bins, patches = h.hist(mx['PCGDP1940'], bins=5)"
   ]
  },
  {
   "cell_type": "markdown",
   "metadata": {},
   "source": [
    "The `counts` object captures how many observations each category in the classification has:"
   ]
  },
  {
   "cell_type": "code",
   "execution_count": 6,
   "metadata": {},
   "outputs": [
    {
     "data": {
      "text/plain": [
       "array([17.,  9.,  3.,  1.,  2.])"
      ]
     },
     "execution_count": 6,
     "metadata": {},
     "output_type": "execute_result"
    }
   ],
   "source": [
    "counts"
   ]
  },
  {
   "cell_type": "markdown",
   "metadata": {},
   "source": [
    "The `bin` object stores these break points we are interested in when considering classification schemes (the `patches` object can be ignored in this context, as it stores the geometries of the histogram plot):"
   ]
  },
  {
   "cell_type": "code",
   "execution_count": 7,
   "metadata": {},
   "outputs": [
    {
     "data": {
      "text/plain": [
       "array([ 1892. ,  5985.8, 10079.6, 14173.4, 18267.2, 22361. ])"
      ]
     },
     "execution_count": 7,
     "metadata": {},
     "output_type": "execute_result"
    }
   ],
   "source": [
    "bins"
   ]
  },
  {
   "cell_type": "markdown",
   "metadata": {},
   "source": [
    "This yields 5 bins, with the first having a lower bound of 1892 and an upper\n",
    "bound of 5985.8 which contains 17 observations. \n",
    "The determination of the\n",
    "interval width ($w$) and the number of bins in `seaborn` is based on the Freedman-Diaconis rule:\n",
    "\n",
    "$$w = 2 * IQR * n^{-1/3}$$\n",
    "\n",
    "where $IQR$ is the inter quartile\n",
    "range of the attribute values. Given $w$ the number of bins ($k$) is:\n",
    "\n",
    "$$k=(max-\n",
    "min)/w.$$\n",
    "\n",
    "Below we present several approaches to create these break points that follow criteria that can be of interest in different contexts, as they focus on different priorities.\n",
    " \n",
    "#### Equal Intervals\n",
    "\n",
    "The Freedman-Diaconis approach provides a rule to determine\n",
    "the width and, in turn, the number of bins for the classification. This is a\n",
    "special case of a more general classifier known as \"equal intervals\", where each\n",
    "of the bins has the same width in the value space. \n",
    "For a given value of $k$, equal intervals\n",
    "classification splits the range of the attribute space into $k$ equal length\n",
    "intervals, with each interval having a width\n",
    "$w = \\frac{x_0 - x_{n-1}}{k}$.\n",
    "Thus the maximum class is $(x_{n-1}-w, x_{n-1}]$ and the first class is\n",
    "$(-\\infty, x_{n-1} - (k-1)w]$.\n",
    "\n",
    "Equal intervals have the dual advantages of\n",
    "simplicity and ease of interpretation. However, this rule only considers the extreme\n",
    "values of the distribution and, in some cases, this can result in one or more\n",
    "classes being sparse. This is clearly the case in our income dataset, as the majority of\n",
    "the values are placed into the first two classes leaving the last three classes\n",
    "rather sparse:"
   ]
  },
  {
   "cell_type": "code",
   "execution_count": 8,
   "metadata": {},
   "outputs": [
    {
     "name": "stderr",
     "output_type": "stream",
     "text": [
      "/home/serge/Dropbox/p/pysal/src/subpackages/mapclassify/mapclassify/classifiers.py:482: UserWarning: Deprecated (2.1.0): Equal_Interval is being renamed to EqualInterval. Equal_Interval will be removed on 2020-01-31.\n",
      "  warn(self.message)\n"
     ]
    },
    {
     "data": {
      "text/plain": [
       "                Equal Interval                \n",
       " \n",
       "  Lower              Upper               Count\n",
       "==============================================\n",
       "            x[i] <=  5985.800               17\n",
       " 5985.800 < x[i] <= 10079.600                9\n",
       "10079.600 < x[i] <= 14173.400                3\n",
       "14173.400 < x[i] <= 18267.200                1\n",
       "18267.200 < x[i] <= 22361.000                2"
      ]
     },
     "execution_count": 8,
     "metadata": {},
     "output_type": "execute_result"
    }
   ],
   "source": [
    "ei5 = mapclassify.Equal_Interval(mx['PCGDP1940'], k=5)\n",
    "ei5"
   ]
  },
  {
   "cell_type": "markdown",
   "metadata": {},
   "source": [
    "  Note that each of the intervals, however, has equal width of\n",
    "$w=4093.8$. This value of $k=5$ also coincides with the default classification\n",
    "in the Seaborn histogram in Figure 1."
   ]
  },
  {
   "cell_type": "markdown",
   "metadata": {},
   "source": [
    "#### Quantiles\n",
    "To avoid the potential problem of sparse classes, the quantiles of\n",
    "the distribution can be used to identify the class boundaries. Indeed, each\n",
    "class will have approximately $\\mid\\frac{n}{k}\\mid$ observations using the quantile\n",
    "classifier. If $k=5$ the sample quintiles are used to define the upper limits of\n",
    "each class resulting in the following classification:"
   ]
  },
  {
   "cell_type": "code",
   "execution_count": 9,
   "metadata": {},
   "outputs": [
    {
     "data": {
      "text/plain": [
       "                  Quantiles                  \n",
       " \n",
       "  Lower              Upper              Count\n",
       "=============================================\n",
       "            x[i] <=  3576.200               7\n",
       " 3576.200 < x[i] <=  4582.800               6\n",
       " 4582.800 < x[i] <=  6925.200               6\n",
       " 6925.200 < x[i] <=  9473.000               6\n",
       " 9473.000 < x[i] <= 22361.000               7"
      ]
     },
     "execution_count": 9,
     "metadata": {},
     "output_type": "execute_result"
    }
   ],
   "source": [
    "q5 = mapclassify.Quantiles(mx.PCGDP1940, k=5)\n",
    "q5"
   ]
  },
  {
   "cell_type": "markdown",
   "metadata": {},
   "source": [
    "Note that while the numbers of values in each class are roughly equal, the\n",
    "widths of the first four intervals are rather different:"
   ]
  },
  {
   "cell_type": "code",
   "execution_count": 10,
   "metadata": {},
   "outputs": [
    {
     "data": {
      "text/plain": [
       "array([ 1006.6,  2342.4,  2547.8, 12888. ])"
      ]
     },
     "execution_count": 10,
     "metadata": {},
     "output_type": "execute_result"
    }
   ],
   "source": [
    "q5.bins[1:]-q5.bins[:-1]"
   ]
  },
  {
   "cell_type": "markdown",
   "metadata": {},
   "source": [
    "While quantiles does avoid the pitfall of sparse classes, this classification is\n",
    "not problem free. The varying widths of the intervals can be markedly different\n",
    "which can lead to problems of interpretation. A second challenge facing quantiles\n",
    "arises when there are a large number of duplicate values in the distribution\n",
    "such that the limits for one or more classes become ambiguous. For example, if one had a variable with $n=20$ but 10 of the observations took on the same value which was the minimum observed, then for values of $k>2$, the class boundaries become ill-defined since a simple rule of splitting at the $n/k$ ranked observed value would depend upon how ties are tried when ranking.\n",
    "\n",
    "#### Mean-standard deviation\n",
    "\n",
    "Our third classifer uses the sample mean $\\bar{x} =\n",
    "\\frac{1}{n} \\sum_{i=1}^n x_i$ and sample standard deviation $s = \\sqrt{\n",
    "\\frac{1}{n-1} \\sum_{i=1}^n (x_i - \\bar{x})  }$ to define class boundaries as\n",
    "some distance from the sample mean, with the distance being a multiple of the\n",
    "standard deviation. For example, a common definition for $k=5$ is to set the\n",
    "upper limit of the first class to two standard deviations ($c_{0}^u = \\bar{x} - 2 s$), and the intermediate\n",
    "classes to have upper limits within one standard deviation ($c_{1}^u = \\bar{x}-s,\\ c_{2}^u = \\bar{x}+s, \\ c_{3}^u\n",
    "= \\bar{x}+2s$). Any values greater (smaller) than two standard deviations above (below) the mean\n",
    "are placed into the top (bottom) class."
   ]
  },
  {
   "cell_type": "code",
   "execution_count": 11,
   "metadata": {},
   "outputs": [
    {
     "name": "stderr",
     "output_type": "stream",
     "text": [
      "/home/serge/Dropbox/p/pysal/src/subpackages/mapclassify/mapclassify/classifiers.py:482: UserWarning: Deprecated (2.1.0): Std_Mean is being renamed to StdMean. Std_Mean will be removed on 2020-01-31.\n",
      "  warn(self.message)\n"
     ]
    },
    {
     "data": {
      "text/plain": [
       "                   StdMean                    \n",
       " \n",
       "  Lower              Upper               Count\n",
       "==============================================\n",
       "            x[i] <= -3179.375                0\n",
       "-3179.375 < x[i] <=  2025.578                1\n",
       " 2025.578 < x[i] <= 12435.484               28\n",
       "12435.484 < x[i] <= 17640.437                0\n",
       "17640.437 < x[i] <= 22361.000                3"
      ]
     },
     "execution_count": 11,
     "metadata": {},
     "output_type": "execute_result"
    }
   ],
   "source": [
    "msd = mapclassify.Std_Mean(mx['PCGDP1940'])\n",
    "msd"
   ]
  },
  {
   "cell_type": "markdown",
   "metadata": {},
   "source": [
    "This classifier is best used when data is normally distributed or, at least, when the sample mean is a meaningful measure to anchor the classification around. Clearly this is\n",
    "not the case for our income data as the positive skew results in a loss of\n",
    "information when we use the standard deviation. The lack of symmetry leads to\n",
    "an inadmissible upper bound for the first  class as well as a concentration of the\n",
    "vast majority of values in the middle class.\n",
    "\n",
    "#### Maximum Breaks\n",
    "\n",
    "The maximum breaks classifier decides where to set the break points between\n",
    "classes by considering the difference between sorted values. That is, rather\n",
    "than considering a value of the dataset in itself, it looks at how appart each\n",
    "value is from the next one in the sorted sequence. The classifier then places\n",
    "the the $k-1$ break points in between the pairs of values most stretched apart from\n",
    "each other in the entire sequence, proceeding in descending order relative to\n",
    "the size of the breaks:"
   ]
  },
  {
   "cell_type": "code",
   "execution_count": 12,
   "metadata": {},
   "outputs": [
    {
     "name": "stderr",
     "output_type": "stream",
     "text": [
      "/home/serge/Dropbox/p/pysal/src/subpackages/mapclassify/mapclassify/classifiers.py:482: UserWarning: Deprecated (2.1.0): Maximum_Breaks is being renamed to MaximumBreaks. Maximum_Breaks will be removed on 2020-01-31.\n",
      "  warn(self.message)\n"
     ]
    },
    {
     "data": {
      "text/plain": [
       "                MaximumBreaks                 \n",
       " \n",
       "  Lower              Upper               Count\n",
       "==============================================\n",
       "            x[i] <=  5854.000               17\n",
       " 5854.000 < x[i] <= 11574.000               11\n",
       "11574.000 < x[i] <= 14974.000                1\n",
       "14974.000 < x[i] <= 19890.500                1\n",
       "19890.500 < x[i] <= 22361.000                2"
      ]
     },
     "execution_count": 12,
     "metadata": {},
     "output_type": "execute_result"
    }
   ],
   "source": [
    "mb5 = mapclassify.Maximum_Breaks(mx['PCGDP1940'], k=5)\n",
    "mb5"
   ]
  },
  {
   "cell_type": "markdown",
   "metadata": {},
   "source": [
    "Maximum breaks is an appropriate approach when we are interested in making sure\n",
    "observations in each class are separated from those in neighboring classes. As\n",
    "such, it works well in cases where the distribution of values is not unimodal.\n",
    "In addition, the algorithm is relatively fast to compute. However, its\n",
    "simplicitly can sometimes cause unexpected results. To the extent in only\n",
    "considers the top $k-1$ differences between consecutive values, other more nuanced\n",
    "within-group differences and dissimilarities can be ignored.\n",
    "\n",
    "#### Box-Plot\n",
    "\n",
    "The box-plot classification is a blend of the quantile and\n",
    "standard deviation classifiers. Here $k$ is predefined to six, with the upper limit of class 0 set\n",
    "to $q_{0.25}-h \\, IQR$. $IQR = q_{0.75}-q_{0.25}$ is the\n",
    "inter-quartile range; $h$ corresponds to the hinge, or the multiplier of the $IQR$ to obtain the bounds of the whiskers. The lower limit of the sixth class is set to $q_{0.75}+h \\,\n",
    "IQR$. Intermediate classes have their upper limits set to the 0.25, 0.50 and\n",
    "0.75 percentiles of the attribute values."
   ]
  },
  {
   "cell_type": "code",
   "execution_count": 13,
   "metadata": {},
   "outputs": [
    {
     "name": "stderr",
     "output_type": "stream",
     "text": [
      "/home/serge/Dropbox/p/pysal/src/subpackages/mapclassify/mapclassify/classifiers.py:482: UserWarning: Deprecated (2.1.0): Box_Plot is being renamed to BoxPlot. Box_Plot will be removed on 2020-01-31.\n",
      "  warn(self.message)\n"
     ]
    },
    {
     "data": {
      "text/plain": [
       "                   Box Plot                  \n",
       " \n",
       "  Lower              Upper              Count\n",
       "=============================================\n",
       "            x[i] <= -3798.250               0\n",
       "-3798.250 < x[i] <=  3701.750               8\n",
       " 3701.750 < x[i] <=  5256.000               8\n",
       " 5256.000 < x[i] <=  8701.750               8\n",
       " 8701.750 < x[i] <= 16201.750               5\n",
       "16201.750 < x[i] <= 22361.000               3"
      ]
     },
     "execution_count": 13,
     "metadata": {},
     "output_type": "execute_result"
    }
   ],
   "source": [
    "bp = mapclassify.Box_Plot(mx['PCGDP1940'])\n",
    "bp"
   ]
  },
  {
   "cell_type": "markdown",
   "metadata": {},
   "source": [
    "Any values falling into either of the extreme classes are defined as outlers.\n",
    "Note that because the income values are non-negative by definition, the lower\n",
    "outlier class has an inadmissible upper bound meaning that lower outliers would\n",
    "not be possible for this sample.\n",
    "\n",
    "The default value for the hinge is $h=1.5$ in\n",
    "PySAL. However, this can be specified by the user for an alternative classification:"
   ]
  },
  {
   "cell_type": "code",
   "execution_count": 14,
   "metadata": {},
   "outputs": [
    {
     "data": {
      "text/plain": [
       "                   Box Plot                  \n",
       " \n",
       "  Lower              Upper              Count\n",
       "=============================================\n",
       "            x[i] <= -1298.250               0\n",
       "-1298.250 < x[i] <=  3701.750               8\n",
       " 3701.750 < x[i] <=  5256.000               8\n",
       " 5256.000 < x[i] <=  8701.750               8\n",
       " 8701.750 < x[i] <= 13701.750               5\n",
       "13701.750 < x[i] <= 22361.000               3"
      ]
     },
     "execution_count": 14,
     "metadata": {},
     "output_type": "execute_result"
    }
   ],
   "source": [
    "bp1 = mapclassify.Box_Plot(mx['PCGDP1940'], hinge=1)\n",
    "bp1"
   ]
  },
  {
   "cell_type": "markdown",
   "metadata": {},
   "source": [
    "Doing so will affect the definition of the outlier classes, as well as the\n",
    "neighboring internal classes.\n",
    "\n",
    "#### Head Tail Breaks\n",
    "\n",
    "The head tail algorithm, introduced by Jiang (2013), is based on a recursive partioning of the data using splits around\n",
    "iterative means. The splitting process continues until the distributions within each of\n",
    "the classes no longer display a heavy-tailed distribution in the sense that\n",
    "there is a balance between the number of smaller and larger values assigned to\n",
    "each class."
   ]
  },
  {
   "cell_type": "code",
   "execution_count": 15,
   "metadata": {},
   "outputs": [
    {
     "name": "stderr",
     "output_type": "stream",
     "text": [
      "/home/serge/Dropbox/p/pysal/src/subpackages/mapclassify/mapclassify/classifiers.py:482: UserWarning: Deprecated (2.1.0): HeadTail_Breaks is being renamed to HeadTailBreaks. HeadTail_Breaks will be removed on 2020-01-31.\n",
      "  warn(self.message)\n",
      "/home/serge/Dropbox/p/pysal/src/subpackages/mapclassify/mapclassify/classifiers.py:86: DeprecationWarning: Call to deprecated function (or staticmethod) headTail_breaks. (use head_tail_breaks)\n",
      "  return headTail_breaks(values[values >= mean], cuts)\n",
      "/home/serge/Dropbox/p/pysal/src/subpackages/mapclassify/mapclassify/classifiers.py:86: DeprecationWarning: Call to deprecated function (or staticmethod) headTail_breaks. (use head_tail_breaks)\n",
      "  return headTail_breaks(values[values >= mean], cuts)\n",
      "/home/serge/Dropbox/p/pysal/src/subpackages/mapclassify/mapclassify/classifiers.py:86: DeprecationWarning: Call to deprecated function (or staticmethod) headTail_breaks. (use head_tail_breaks)\n",
      "  return headTail_breaks(values[values >= mean], cuts)\n",
      "/home/serge/Dropbox/p/pysal/src/subpackages/mapclassify/mapclassify/classifiers.py:86: DeprecationWarning: Call to deprecated function (or staticmethod) headTail_breaks. (use head_tail_breaks)\n",
      "  return headTail_breaks(values[values >= mean], cuts)\n"
     ]
    },
    {
     "data": {
      "text/plain": [
       "                HeadTailBreaks                \n",
       " \n",
       "  Lower              Upper               Count\n",
       "==============================================\n",
       "            x[i] <=  7230.531               20\n",
       " 7230.531 < x[i] <= 12244.417                9\n",
       "12244.417 < x[i] <= 20714.000                1\n",
       "20714.000 < x[i] <= 22163.000                1\n",
       "22163.000 < x[i] <= 22361.000                1"
      ]
     },
     "execution_count": 15,
     "metadata": {},
     "output_type": "execute_result"
    }
   ],
   "source": [
    "ht = mapclassify.HeadTail_Breaks(mx['PCGDP1940'])\n",
    "ht"
   ]
  },
  {
   "cell_type": "markdown",
   "metadata": {},
   "source": [
    "For data with a heavy-tailed distribution, such as power law and log normal\n",
    "distributions, the head tail breaks classifier (Jiang 2015) can be particularly\n",
    "effective.\n",
    "\n",
    "#### Jenks Caspall\n",
    "\n",
    "This approach, as well as the following two, tackles the calssification challenge from a heuristic perspective, rather than from deterministic one. Originally proposed by Jenks & Caspall (1971), this algorithm aims to minimize the sum of absolute deviations around\n",
    "class means. The approach begins with a prespecified number of classes and an\n",
    "arbitrary initial set of class breaks - for example using quintiles. The\n",
    "algorithm attempts to improve the objective function by considering the movement\n",
    "of observations between adjacent classes. For example, the largest value in the\n",
    "lowest quintile would be considered for movement into the second quintile, while\n",
    "the lowest value in the second quintile would be considered for a possible move\n",
    "into the first quintile. The candidate move resulting in the largest reduction\n",
    "in the objective function would be made, and the process continues until no\n",
    "other improving moves are possible."
   ]
  },
  {
   "cell_type": "code",
   "execution_count": 16,
   "metadata": {},
   "outputs": [
    {
     "name": "stderr",
     "output_type": "stream",
     "text": [
      "/home/serge/Dropbox/p/pysal/src/subpackages/mapclassify/mapclassify/classifiers.py:482: UserWarning: Deprecated (2.1.0): Jenks_Caspall is being renamed to JenksCaspall. Jenks_Caspall will be removed on 2020-01-31.\n",
      "  warn(self.message)\n"
     ]
    },
    {
     "data": {
      "text/plain": [
       "                 JenksCaspall                 \n",
       " \n",
       "  Lower              Upper               Count\n",
       "==============================================\n",
       "            x[i] <=  2934.000                4\n",
       " 2934.000 < x[i] <=  4414.000                9\n",
       " 4414.000 < x[i] <=  6399.000                5\n",
       " 6399.000 < x[i] <= 12132.000               11\n",
       "12132.000 < x[i] <= 22361.000                3"
      ]
     },
     "execution_count": 16,
     "metadata": {},
     "output_type": "execute_result"
    }
   ],
   "source": [
    "numpy.random.seed(12345)\n",
    "jc5 = mapclassify.Jenks_Caspall(mx['PCGDP1940'], k=5)\n",
    "jc5"
   ]
  },
  {
   "cell_type": "markdown",
   "metadata": {},
   "source": [
    "#### Fisher Jenks\n",
    "\n",
    "The second optimal algorithm adopts a dynamic programming approach to minimize\n",
    "the sum of the absolute deviations around class medians. In contrast to the\n",
    "Jenks-Caspall approach, Fisher-Jenks is guaranteed to produce an optimal\n",
    "classification for a prespecified number of classes:"
   ]
  },
  {
   "cell_type": "code",
   "execution_count": 17,
   "metadata": {},
   "outputs": [
    {
     "name": "stderr",
     "output_type": "stream",
     "text": [
      "/home/serge/Dropbox/p/pysal/src/subpackages/mapclassify/mapclassify/classifiers.py:482: UserWarning: Deprecated (2.1.0): Fisher_Jenks is being renamed to FisherJenks. Fisher_Jenks will be removed on 2020-01-31.\n",
      "  warn(self.message)\n"
     ]
    },
    {
     "data": {
      "text/plain": [
       "                 FisherJenks                  \n",
       " \n",
       "  Lower              Upper               Count\n",
       "==============================================\n",
       "            x[i] <=  5309.000               17\n",
       " 5309.000 < x[i] <=  9073.000                8\n",
       " 9073.000 < x[i] <= 12132.000                4\n",
       "12132.000 < x[i] <= 17816.000                1\n",
       "17816.000 < x[i] <= 22361.000                2"
      ]
     },
     "execution_count": 17,
     "metadata": {},
     "output_type": "execute_result"
    }
   ],
   "source": [
    "numpy.random.seed(12345)\n",
    "fj5 = mapclassify.Fisher_Jenks(mx['PCGDP1940'], k=5)\n",
    "fj5"
   ]
  },
  {
   "cell_type": "markdown",
   "metadata": {},
   "source": [
    "#### Max-p\n",
    "\n",
    "Finally, the max-p classifiers adopts the algorithm underlying the max-p region\n",
    "building method (Duque, Anselin and Rey, 2012) to the case of map classification. It is similar in spirit to\n",
    "Jenks Caspall in that it considers greedy swapping between adjacent classes to\n",
    "improve the objective function. It is a heuristic, however, so unlike\n",
    "Fisher-Jenks, there is no optimial solution guaranteed:"
   ]
  },
  {
   "cell_type": "code",
   "execution_count": 18,
   "metadata": {},
   "outputs": [
    {
     "name": "stderr",
     "output_type": "stream",
     "text": [
      "/home/serge/Dropbox/p/pysal/src/subpackages/mapclassify/mapclassify/classifiers.py:482: UserWarning: Deprecated (2.1.0): Max_P_Classifier is being renamed to MaxP. Max_P_Classifier will be removed on 2020-01-31.\n",
      "  warn(self.message)\n"
     ]
    },
    {
     "data": {
      "text/plain": [
       "                     MaxP                     \n",
       " \n",
       "  Lower              Upper               Count\n",
       "==============================================\n",
       "            x[i] <=  3569.000                7\n",
       " 3569.000 < x[i] <=  5309.000               10\n",
       " 5309.000 < x[i] <=  7990.000                5\n",
       " 7990.000 < x[i] <= 10384.000                5\n",
       "10384.000 < x[i] <= 22361.000                5"
      ]
     },
     "execution_count": 18,
     "metadata": {},
     "output_type": "execute_result"
    }
   ],
   "source": [
    "mp5 = mapclassify.Max_P_Classifier(mx['PCGDP1940'], k=5)\n",
    "mp5"
   ]
  },
  {
   "cell_type": "markdown",
   "metadata": {},
   "source": [
    "### Comparing Classification schemes\n",
    "\n",
    "As a special case of clustering, the definition of\n",
    "the number of classes and the class boundaries pose a problem to the map\n",
    "designer. Recall that the Freedman-Diaconis rule was said to be optimal,\n",
    "however, the optimality necessitates the specification of an objective function.\n",
    "In the case of Freedman-Diaconis, the objective function is to minimize the\n",
    "difference between the area under estimated kernel density based on the sample\n",
    "and the area under the theoretical population distribution that generated the\n",
    "sample.\n",
    "\n",
    "This notion of statistical fit is an important one. However, it is not the\n",
    "only consideration when evaluating classifiers for the purpose of choropleth\n",
    "mapping. Also relevant is the spatial distribution of the attribute values and\n",
    "the ability of the classifier to convey a sense of that spatial distribution. As\n",
    "we shall see, this is not necessarily directly related to the statistical\n",
    "distribution of the attribute values. We will return to a joint consideration of both\n",
    "the statistical and spatial distribution of the attribute values in comparison\n",
    "of classifiers below.\n",
    "\n",
    "For map classification, one optimiality criterion that\n",
    "can be used is a measure of fit. In PySAL the \"absolute deviation around class\n",
    "medians\" (ADCM) is calculated and provides a measure of fit that allows for\n",
    "comparison of alternative classifiers for the same value of $k$.\n",
    "\n",
    "To see this, we can compare different classifiers for $k=5$ on the Mexico data:"
   ]
  },
  {
   "cell_type": "code",
   "execution_count": 19,
   "metadata": {},
   "outputs": [
    {
     "data": {
      "image/png": "[encoded data removed]",
      "text/plain": [
       "<Figure size 432x288 with 1 Axes>"
      ]
     },
     "metadata": {
      "needs_background": "light"
     },
     "output_type": "display_data"
    }
   ],
   "source": [
    "class5 = q5, ei5, ht, mb5, msd, fj5, jc5\n",
    "fits = numpy.array([ c.adcm for c in class5])\n",
    "data = pandas.DataFrame(fits)\n",
    "data['classifier'] = [c.name for c in class5]\n",
    "data.columns = ['ADCM', 'Classifier']\n",
    "ax = seaborn.barplot(y='Classifier', x='ADCM', data=data)"
   ]
  },
  {
   "cell_type": "markdown",
   "metadata": {},
   "source": [
    "As is to be expected, the Fisher-Jenks classifier dominates all other k=5\n",
    "classifiers with an ACDM of 23,729. Interestingly, the equal interval classifier\n",
    "performs well despite the problems associated with being sensitive to the\n",
    "extreme values in the distribution. The mean-standard deviation classifier has a\n",
    "very poor fit due to the skewed nature of the data and the concentrated\n",
    "assignment of the majority of the observations to the central class.\n",
    "\n",
    "The ADCM provides a global measure of fit which can be used to compare the\n",
    "alternative classifiers. As a complement to this global perspective, it can be\n",
    "revealing to consider how each of the spatial observations was classified across\n",
    "the alternative approaches. To do this we can add the class bin attribute (`yb`)\n",
    "generated by the PySAL classifiers as additional columns in the data frame and\n",
    "present these jointly in a table:"
   ]
  },
  {
   "cell_type": "code",
   "execution_count": 20,
   "metadata": {},
   "outputs": [],
   "source": [
    "mx['q540'] = q5.yb\n",
    "mx['ei540'] = ei5.yb\n",
    "mx['ht40'] = ht.yb\n",
    "mx['mb540'] = mb5.yb\n",
    "mx['msd40'] = msd.yb\n",
    "mx['fj540'] = fj5.yb\n",
    "mx['jc540'] = jc5.yb"
   ]
  },
  {
   "cell_type": "code",
   "execution_count": 21,
   "metadata": {},
   "outputs": [],
   "source": [
    "mxs = mx.sort_values('PCGDP1940')"
   ]
  },
  {
   "cell_type": "code",
   "execution_count": 22,
   "metadata": {},
   "outputs": [],
   "source": [
    "def highlight_values(val):\n",
    "    if val==0:\n",
    "        return 'background-color: %s' % '#ffffff'\n",
    "    elif val==1:\n",
    "        return 'background-color: %s' % '#e0ffff'\n",
    "    elif val==2:\n",
    "        return 'background-color: %s' % '#b3ffff'\n",
    "    elif val==3:\n",
    "        return 'background-color: %s' % '#87ffff'\n",
    "    elif val==4:\n",
    "        return 'background-color: %s' % '#62e4ff'\n",
    "    else:\n",
    "        return ''"
   ]
  },
  {
   "cell_type": "code",
   "execution_count": 23,
   "metadata": {},
   "outputs": [
    {
     "data": {
      "text/html": [
       "<style  type=\"text/css\" >\n",
       "    #T_503b9aa2_9db8_11e9_8504_f44d3069430erow0_col2 {\n",
       "            background-color:  #ffffff;\n",
       "        }    #T_503b9aa2_9db8_11e9_8504_f44d3069430erow0_col3 {\n",
       "            background-color:  #ffffff;\n",
       "        }    #T_503b9aa2_9db8_11e9_8504_f44d3069430erow0_col4 {\n",
       "            background-color:  #ffffff;\n",
       "        }    #T_503b9aa2_9db8_11e9_8504_f44d3069430erow0_col5 {\n",
       "            background-color:  #ffffff;\n",
       "        }    #T_503b9aa2_9db8_11e9_8504_f44d3069430erow0_col6 {\n",
       "            background-color:  #e0ffff;\n",
       "        }    #T_503b9aa2_9db8_11e9_8504_f44d3069430erow0_col7 {\n",
       "            background-color:  #ffffff;\n",
       "        }    #T_503b9aa2_9db8_11e9_8504_f44d3069430erow0_col8 {\n",
       "            background-color:  #ffffff;\n",
       "        }    #T_503b9aa2_9db8_11e9_8504_f44d3069430erow1_col2 {\n",
       "            background-color:  #ffffff;\n",
       "        }    #T_503b9aa2_9db8_11e9_8504_f44d3069430erow1_col3 {\n",
       "            background-color:  #ffffff;\n",
       "        }    #T_503b9aa2_9db8_11e9_8504_f44d3069430erow1_col4 {\n",
       "            background-color:  #ffffff;\n",
       "        }    #T_503b9aa2_9db8_11e9_8504_f44d3069430erow1_col5 {\n",
       "            background-color:  #ffffff;\n",
       "        }    #T_503b9aa2_9db8_11e9_8504_f44d3069430erow1_col6 {\n",
       "            background-color:  #b3ffff;\n",
       "        }    #T_503b9aa2_9db8_11e9_8504_f44d3069430erow1_col7 {\n",
       "            background-color:  #ffffff;\n",
       "        }    #T_503b9aa2_9db8_11e9_8504_f44d3069430erow1_col8 {\n",
       "            background-color:  #ffffff;\n",
       "        }    #T_503b9aa2_9db8_11e9_8504_f44d3069430erow2_col2 {\n",
       "            background-color:  #ffffff;\n",
       "        }    #T_503b9aa2_9db8_11e9_8504_f44d3069430erow2_col3 {\n",
       "            background-color:  #ffffff;\n",
       "        }    #T_503b9aa2_9db8_11e9_8504_f44d3069430erow2_col4 {\n",
       "            background-color:  #ffffff;\n",
       "        }    #T_503b9aa2_9db8_11e9_8504_f44d3069430erow2_col5 {\n",
       "            background-color:  #ffffff;\n",
       "        }    #T_503b9aa2_9db8_11e9_8504_f44d3069430erow2_col6 {\n",
       "            background-color:  #b3ffff;\n",
       "        }    #T_503b9aa2_9db8_11e9_8504_f44d3069430erow2_col7 {\n",
       "            background-color:  #ffffff;\n",
       "        }    #T_503b9aa2_9db8_11e9_8504_f44d3069430erow2_col8 {\n",
       "            background-color:  #ffffff;\n",
       "        }    #T_503b9aa2_9db8_11e9_8504_f44d3069430erow3_col2 {\n",
       "            background-color:  #ffffff;\n",
       "        }    #T_503b9aa2_9db8_11e9_8504_f44d3069430erow3_col3 {\n",
       "            background-color:  #ffffff;\n",
       "        }    #T_503b9aa2_9db8_11e9_8504_f44d3069430erow3_col4 {\n",
       "            background-color:  #ffffff;\n",
       "        }    #T_503b9aa2_9db8_11e9_8504_f44d3069430erow3_col5 {\n",
       "            background-color:  #ffffff;\n",
       "        }    #T_503b9aa2_9db8_11e9_8504_f44d3069430erow3_col6 {\n",
       "            background-color:  #b3ffff;\n",
       "        }    #T_503b9aa2_9db8_11e9_8504_f44d3069430erow3_col7 {\n",
       "            background-color:  #ffffff;\n",
       "        }    #T_503b9aa2_9db8_11e9_8504_f44d3069430erow3_col8 {\n",
       "            background-color:  #ffffff;\n",
       "        }    #T_503b9aa2_9db8_11e9_8504_f44d3069430erow4_col2 {\n",
       "            background-color:  #ffffff;\n",
       "        }    #T_503b9aa2_9db8_11e9_8504_f44d3069430erow4_col3 {\n",
       "            background-color:  #ffffff;\n",
       "        }    #T_503b9aa2_9db8_11e9_8504_f44d3069430erow4_col4 {\n",
       "            background-color:  #ffffff;\n",
       "        }    #T_503b9aa2_9db8_11e9_8504_f44d3069430erow4_col5 {\n",
       "            background-color:  #ffffff;\n",
       "        }    #T_503b9aa2_9db8_11e9_8504_f44d3069430erow4_col6 {\n",
       "            background-color:  #b3ffff;\n",
       "        }    #T_503b9aa2_9db8_11e9_8504_f44d3069430erow4_col7 {\n",
       "            background-color:  #ffffff;\n",
       "        }    #T_503b9aa2_9db8_11e9_8504_f44d3069430erow4_col8 {\n",
       "            background-color:  #e0ffff;\n",
       "        }    #T_503b9aa2_9db8_11e9_8504_f44d3069430erow5_col2 {\n",
       "            background-color:  #ffffff;\n",
       "        }    #T_503b9aa2_9db8_11e9_8504_f44d3069430erow5_col3 {\n",
       "            background-color:  #ffffff;\n",
       "        }    #T_503b9aa2_9db8_11e9_8504_f44d3069430erow5_col4 {\n",
       "            background-color:  #ffffff;\n",
       "        }    #T_503b9aa2_9db8_11e9_8504_f44d3069430erow5_col5 {\n",
       "            background-color:  #ffffff;\n",
       "        }    #T_503b9aa2_9db8_11e9_8504_f44d3069430erow5_col6 {\n",
       "            background-color:  #b3ffff;\n",
       "        }    #T_503b9aa2_9db8_11e9_8504_f44d3069430erow5_col7 {\n",
       "            background-color:  #ffffff;\n",
       "        }    #T_503b9aa2_9db8_11e9_8504_f44d3069430erow5_col8 {\n",
       "            background-color:  #e0ffff;\n",
       "        }    #T_503b9aa2_9db8_11e9_8504_f44d3069430erow6_col2 {\n",
       "            background-color:  #ffffff;\n",
       "        }    #T_503b9aa2_9db8_11e9_8504_f44d3069430erow6_col3 {\n",
       "            background-color:  #ffffff;\n",
       "        }    #T_503b9aa2_9db8_11e9_8504_f44d3069430erow6_col4 {\n",
       "            background-color:  #ffffff;\n",
       "        }    #T_503b9aa2_9db8_11e9_8504_f44d3069430erow6_col5 {\n",
       "            background-color:  #ffffff;\n",
       "        }    #T_503b9aa2_9db8_11e9_8504_f44d3069430erow6_col6 {\n",
       "            background-color:  #b3ffff;\n",
       "        }    #T_503b9aa2_9db8_11e9_8504_f44d3069430erow6_col7 {\n",
       "            background-color:  #ffffff;\n",
       "        }    #T_503b9aa2_9db8_11e9_8504_f44d3069430erow6_col8 {\n",
       "            background-color:  #e0ffff;\n",
       "        }    #T_503b9aa2_9db8_11e9_8504_f44d3069430erow7_col2 {\n",
       "            background-color:  #e0ffff;\n",
       "        }    #T_503b9aa2_9db8_11e9_8504_f44d3069430erow7_col3 {\n",
       "            background-color:  #ffffff;\n",
       "        }    #T_503b9aa2_9db8_11e9_8504_f44d3069430erow7_col4 {\n",
       "            background-color:  #ffffff;\n",
       "        }    #T_503b9aa2_9db8_11e9_8504_f44d3069430erow7_col5 {\n",
       "            background-color:  #ffffff;\n",
       "        }    #T_503b9aa2_9db8_11e9_8504_f44d3069430erow7_col6 {\n",
       "            background-color:  #b3ffff;\n",
       "        }    #T_503b9aa2_9db8_11e9_8504_f44d3069430erow7_col7 {\n",
       "            background-color:  #ffffff;\n",
       "        }    #T_503b9aa2_9db8_11e9_8504_f44d3069430erow7_col8 {\n",
       "            background-color:  #e0ffff;\n",
       "        }    #T_503b9aa2_9db8_11e9_8504_f44d3069430erow8_col2 {\n",
       "            background-color:  #e0ffff;\n",
       "        }    #T_503b9aa2_9db8_11e9_8504_f44d3069430erow8_col3 {\n",
       "            background-color:  #ffffff;\n",
       "        }    #T_503b9aa2_9db8_11e9_8504_f44d3069430erow8_col4 {\n",
       "            background-color:  #ffffff;\n",
       "        }    #T_503b9aa2_9db8_11e9_8504_f44d3069430erow8_col5 {\n",
       "            background-color:  #ffffff;\n",
       "        }    #T_503b9aa2_9db8_11e9_8504_f44d3069430erow8_col6 {\n",
       "            background-color:  #b3ffff;\n",
       "        }    #T_503b9aa2_9db8_11e9_8504_f44d3069430erow8_col7 {\n",
       "            background-color:  #ffffff;\n",
       "        }    #T_503b9aa2_9db8_11e9_8504_f44d3069430erow8_col8 {\n",
       "            background-color:  #e0ffff;\n",
       "        }    #T_503b9aa2_9db8_11e9_8504_f44d3069430erow9_col2 {\n",
       "            background-color:  #e0ffff;\n",
       "        }    #T_503b9aa2_9db8_11e9_8504_f44d3069430erow9_col3 {\n",
       "            background-color:  #ffffff;\n",
       "        }    #T_503b9aa2_9db8_11e9_8504_f44d3069430erow9_col4 {\n",
       "            background-color:  #ffffff;\n",
       "        }    #T_503b9aa2_9db8_11e9_8504_f44d3069430erow9_col5 {\n",
       "            background-color:  #ffffff;\n",
       "        }    #T_503b9aa2_9db8_11e9_8504_f44d3069430erow9_col6 {\n",
       "            background-color:  #b3ffff;\n",
       "        }    #T_503b9aa2_9db8_11e9_8504_f44d3069430erow9_col7 {\n",
       "            background-color:  #ffffff;\n",
       "        }    #T_503b9aa2_9db8_11e9_8504_f44d3069430erow9_col8 {\n",
       "            background-color:  #e0ffff;\n",
       "        }    #T_503b9aa2_9db8_11e9_8504_f44d3069430erow10_col2 {\n",
       "            background-color:  #e0ffff;\n",
       "        }    #T_503b9aa2_9db8_11e9_8504_f44d3069430erow10_col3 {\n",
       "            background-color:  #ffffff;\n",
       "        }    #T_503b9aa2_9db8_11e9_8504_f44d3069430erow10_col4 {\n",
       "            background-color:  #ffffff;\n",
       "        }    #T_503b9aa2_9db8_11e9_8504_f44d3069430erow10_col5 {\n",
       "            background-color:  #ffffff;\n",
       "        }    #T_503b9aa2_9db8_11e9_8504_f44d3069430erow10_col6 {\n",
       "            background-color:  #b3ffff;\n",
       "        }    #T_503b9aa2_9db8_11e9_8504_f44d3069430erow10_col7 {\n",
       "            background-color:  #ffffff;\n",
       "        }    #T_503b9aa2_9db8_11e9_8504_f44d3069430erow10_col8 {\n",
       "            background-color:  #e0ffff;\n",
       "        }    #T_503b9aa2_9db8_11e9_8504_f44d3069430erow11_col2 {\n",
       "            background-color:  #e0ffff;\n",
       "        }    #T_503b9aa2_9db8_11e9_8504_f44d3069430erow11_col3 {\n",
       "            background-color:  #ffffff;\n",
       "        }    #T_503b9aa2_9db8_11e9_8504_f44d3069430erow11_col4 {\n",
       "            background-color:  #ffffff;\n",
       "        }    #T_503b9aa2_9db8_11e9_8504_f44d3069430erow11_col5 {\n",
       "            background-color:  #ffffff;\n",
       "        }    #T_503b9aa2_9db8_11e9_8504_f44d3069430erow11_col6 {\n",
       "            background-color:  #b3ffff;\n",
       "        }    #T_503b9aa2_9db8_11e9_8504_f44d3069430erow11_col7 {\n",
       "            background-color:  #ffffff;\n",
       "        }    #T_503b9aa2_9db8_11e9_8504_f44d3069430erow11_col8 {\n",
       "            background-color:  #e0ffff;\n",
       "        }    #T_503b9aa2_9db8_11e9_8504_f44d3069430erow12_col2 {\n",
       "            background-color:  #e0ffff;\n",
       "        }    #T_503b9aa2_9db8_11e9_8504_f44d3069430erow12_col3 {\n",
       "            background-color:  #ffffff;\n",
       "        }    #T_503b9aa2_9db8_11e9_8504_f44d3069430erow12_col4 {\n",
       "            background-color:  #ffffff;\n",
       "        }    #T_503b9aa2_9db8_11e9_8504_f44d3069430erow12_col5 {\n",
       "            background-color:  #ffffff;\n",
       "        }    #T_503b9aa2_9db8_11e9_8504_f44d3069430erow12_col6 {\n",
       "            background-color:  #b3ffff;\n",
       "        }    #T_503b9aa2_9db8_11e9_8504_f44d3069430erow12_col7 {\n",
       "            background-color:  #ffffff;\n",
       "        }    #T_503b9aa2_9db8_11e9_8504_f44d3069430erow12_col8 {\n",
       "            background-color:  #e0ffff;\n",
       "        }    #T_503b9aa2_9db8_11e9_8504_f44d3069430erow13_col2 {\n",
       "            background-color:  #b3ffff;\n",
       "        }    #T_503b9aa2_9db8_11e9_8504_f44d3069430erow13_col3 {\n",
       "            background-color:  #ffffff;\n",
       "        }    #T_503b9aa2_9db8_11e9_8504_f44d3069430erow13_col4 {\n",
       "            background-color:  #ffffff;\n",
       "        }    #T_503b9aa2_9db8_11e9_8504_f44d3069430erow13_col5 {\n",
       "            background-color:  #ffffff;\n",
       "        }    #T_503b9aa2_9db8_11e9_8504_f44d3069430erow13_col6 {\n",
       "            background-color:  #b3ffff;\n",
       "        }    #T_503b9aa2_9db8_11e9_8504_f44d3069430erow13_col7 {\n",
       "            background-color:  #ffffff;\n",
       "        }    #T_503b9aa2_9db8_11e9_8504_f44d3069430erow13_col8 {\n",
       "            background-color:  #b3ffff;\n",
       "        }    #T_503b9aa2_9db8_11e9_8504_f44d3069430erow14_col2 {\n",
       "            background-color:  #b3ffff;\n",
       "        }    #T_503b9aa2_9db8_11e9_8504_f44d3069430erow14_col3 {\n",
       "            background-color:  #ffffff;\n",
       "        }    #T_503b9aa2_9db8_11e9_8504_f44d3069430erow14_col4 {\n",
       "            background-color:  #ffffff;\n",
       "        }    #T_503b9aa2_9db8_11e9_8504_f44d3069430erow14_col5 {\n",
       "            background-color:  #ffffff;\n",
       "        }    #T_503b9aa2_9db8_11e9_8504_f44d3069430erow14_col6 {\n",
       "            background-color:  #b3ffff;\n",
       "        }    #T_503b9aa2_9db8_11e9_8504_f44d3069430erow14_col7 {\n",
       "            background-color:  #ffffff;\n",
       "        }    #T_503b9aa2_9db8_11e9_8504_f44d3069430erow14_col8 {\n",
       "            background-color:  #b3ffff;\n",
       "        }    #T_503b9aa2_9db8_11e9_8504_f44d3069430erow15_col2 {\n",
       "            background-color:  #b3ffff;\n",
       "        }    #T_503b9aa2_9db8_11e9_8504_f44d3069430erow15_col3 {\n",
       "            background-color:  #ffffff;\n",
       "        }    #T_503b9aa2_9db8_11e9_8504_f44d3069430erow15_col4 {\n",
       "            background-color:  #ffffff;\n",
       "        }    #T_503b9aa2_9db8_11e9_8504_f44d3069430erow15_col5 {\n",
       "            background-color:  #ffffff;\n",
       "        }    #T_503b9aa2_9db8_11e9_8504_f44d3069430erow15_col6 {\n",
       "            background-color:  #b3ffff;\n",
       "        }    #T_503b9aa2_9db8_11e9_8504_f44d3069430erow15_col7 {\n",
       "            background-color:  #ffffff;\n",
       "        }    #T_503b9aa2_9db8_11e9_8504_f44d3069430erow15_col8 {\n",
       "            background-color:  #b3ffff;\n",
       "        }    #T_503b9aa2_9db8_11e9_8504_f44d3069430erow16_col2 {\n",
       "            background-color:  #b3ffff;\n",
       "        }    #T_503b9aa2_9db8_11e9_8504_f44d3069430erow16_col3 {\n",
       "            background-color:  #ffffff;\n",
       "        }    #T_503b9aa2_9db8_11e9_8504_f44d3069430erow16_col4 {\n",
       "            background-color:  #ffffff;\n",
       "        }    #T_503b9aa2_9db8_11e9_8504_f44d3069430erow16_col5 {\n",
       "            background-color:  #ffffff;\n",
       "        }    #T_503b9aa2_9db8_11e9_8504_f44d3069430erow16_col6 {\n",
       "            background-color:  #b3ffff;\n",
       "        }    #T_503b9aa2_9db8_11e9_8504_f44d3069430erow16_col7 {\n",
       "            background-color:  #ffffff;\n",
       "        }    #T_503b9aa2_9db8_11e9_8504_f44d3069430erow16_col8 {\n",
       "            background-color:  #b3ffff;\n",
       "        }    #T_503b9aa2_9db8_11e9_8504_f44d3069430erow17_col2 {\n",
       "            background-color:  #b3ffff;\n",
       "        }    #T_503b9aa2_9db8_11e9_8504_f44d3069430erow17_col3 {\n",
       "            background-color:  #e0ffff;\n",
       "        }    #T_503b9aa2_9db8_11e9_8504_f44d3069430erow17_col4 {\n",
       "            background-color:  #ffffff;\n",
       "        }    #T_503b9aa2_9db8_11e9_8504_f44d3069430erow17_col5 {\n",
       "            background-color:  #e0ffff;\n",
       "        }    #T_503b9aa2_9db8_11e9_8504_f44d3069430erow17_col6 {\n",
       "            background-color:  #b3ffff;\n",
       "        }    #T_503b9aa2_9db8_11e9_8504_f44d3069430erow17_col7 {\n",
       "            background-color:  #e0ffff;\n",
       "        }    #T_503b9aa2_9db8_11e9_8504_f44d3069430erow17_col8 {\n",
       "            background-color:  #b3ffff;\n",
       "        }    #T_503b9aa2_9db8_11e9_8504_f44d3069430erow18_col2 {\n",
       "            background-color:  #b3ffff;\n",
       "        }    #T_503b9aa2_9db8_11e9_8504_f44d3069430erow18_col3 {\n",
       "            background-color:  #e0ffff;\n",
       "        }    #T_503b9aa2_9db8_11e9_8504_f44d3069430erow18_col4 {\n",
       "            background-color:  #ffffff;\n",
       "        }    #T_503b9aa2_9db8_11e9_8504_f44d3069430erow18_col5 {\n",
       "            background-color:  #e0ffff;\n",
       "        }    #T_503b9aa2_9db8_11e9_8504_f44d3069430erow18_col6 {\n",
       "            background-color:  #b3ffff;\n",
       "        }    #T_503b9aa2_9db8_11e9_8504_f44d3069430erow18_col7 {\n",
       "            background-color:  #e0ffff;\n",
       "        }    #T_503b9aa2_9db8_11e9_8504_f44d3069430erow18_col8 {\n",
       "            background-color:  #87ffff;\n",
       "        }    #T_503b9aa2_9db8_11e9_8504_f44d3069430erow19_col2 {\n",
       "            background-color:  #87ffff;\n",
       "        }    #T_503b9aa2_9db8_11e9_8504_f44d3069430erow19_col3 {\n",
       "            background-color:  #e0ffff;\n",
       "        }    #T_503b9aa2_9db8_11e9_8504_f44d3069430erow19_col4 {\n",
       "            background-color:  #ffffff;\n",
       "        }    #T_503b9aa2_9db8_11e9_8504_f44d3069430erow19_col5 {\n",
       "            background-color:  #e0ffff;\n",
       "        }    #T_503b9aa2_9db8_11e9_8504_f44d3069430erow19_col6 {\n",
       "            background-color:  #b3ffff;\n",
       "        }    #T_503b9aa2_9db8_11e9_8504_f44d3069430erow19_col7 {\n",
       "            background-color:  #e0ffff;\n",
       "        }    #T_503b9aa2_9db8_11e9_8504_f44d3069430erow19_col8 {\n",
       "            background-color:  #87ffff;\n",
       "        }    #T_503b9aa2_9db8_11e9_8504_f44d3069430erow20_col2 {\n",
       "            background-color:  #87ffff;\n",
       "        }    #T_503b9aa2_9db8_11e9_8504_f44d3069430erow20_col3 {\n",
       "            background-color:  #e0ffff;\n",
       "        }    #T_503b9aa2_9db8_11e9_8504_f44d3069430erow20_col4 {\n",
       "            background-color:  #e0ffff;\n",
       "        }    #T_503b9aa2_9db8_11e9_8504_f44d3069430erow20_col5 {\n",
       "            background-color:  #e0ffff;\n",
       "        }    #T_503b9aa2_9db8_11e9_8504_f44d3069430erow20_col6 {\n",
       "            background-color:  #b3ffff;\n",
       "        }    #T_503b9aa2_9db8_11e9_8504_f44d3069430erow20_col7 {\n",
       "            background-color:  #e0ffff;\n",
       "        }    #T_503b9aa2_9db8_11e9_8504_f44d3069430erow20_col8 {\n",
       "            background-color:  #87ffff;\n",
       "        }    #T_503b9aa2_9db8_11e9_8504_f44d3069430erow21_col2 {\n",
       "            background-color:  #87ffff;\n",
       "        }    #T_503b9aa2_9db8_11e9_8504_f44d3069430erow21_col3 {\n",
       "            background-color:  #e0ffff;\n",
       "        }    #T_503b9aa2_9db8_11e9_8504_f44d3069430erow21_col4 {\n",
       "            background-color:  #e0ffff;\n",
       "        }    #T_503b9aa2_9db8_11e9_8504_f44d3069430erow21_col5 {\n",
       "            background-color:  #e0ffff;\n",
       "        }    #T_503b9aa2_9db8_11e9_8504_f44d3069430erow21_col6 {\n",
       "            background-color:  #b3ffff;\n",
       "        }    #T_503b9aa2_9db8_11e9_8504_f44d3069430erow21_col7 {\n",
       "            background-color:  #e0ffff;\n",
       "        }    #T_503b9aa2_9db8_11e9_8504_f44d3069430erow21_col8 {\n",
       "            background-color:  #87ffff;\n",
       "        }    #T_503b9aa2_9db8_11e9_8504_f44d3069430erow22_col2 {\n",
       "            background-color:  #87ffff;\n",
       "        }    #T_503b9aa2_9db8_11e9_8504_f44d3069430erow22_col3 {\n",
       "            background-color:  #e0ffff;\n",
       "        }    #T_503b9aa2_9db8_11e9_8504_f44d3069430erow22_col4 {\n",
       "            background-color:  #e0ffff;\n",
       "        }    #T_503b9aa2_9db8_11e9_8504_f44d3069430erow22_col5 {\n",
       "            background-color:  #e0ffff;\n",
       "        }    #T_503b9aa2_9db8_11e9_8504_f44d3069430erow22_col6 {\n",
       "            background-color:  #b3ffff;\n",
       "        }    #T_503b9aa2_9db8_11e9_8504_f44d3069430erow22_col7 {\n",
       "            background-color:  #e0ffff;\n",
       "        }    #T_503b9aa2_9db8_11e9_8504_f44d3069430erow22_col8 {\n",
       "            background-color:  #87ffff;\n",
       "        }    #T_503b9aa2_9db8_11e9_8504_f44d3069430erow23_col2 {\n",
       "            background-color:  #87ffff;\n",
       "        }    #T_503b9aa2_9db8_11e9_8504_f44d3069430erow23_col3 {\n",
       "            background-color:  #e0ffff;\n",
       "        }    #T_503b9aa2_9db8_11e9_8504_f44d3069430erow23_col4 {\n",
       "            background-color:  #e0ffff;\n",
       "        }    #T_503b9aa2_9db8_11e9_8504_f44d3069430erow23_col5 {\n",
       "            background-color:  #e0ffff;\n",
       "        }    #T_503b9aa2_9db8_11e9_8504_f44d3069430erow23_col6 {\n",
       "            background-color:  #b3ffff;\n",
       "        }    #T_503b9aa2_9db8_11e9_8504_f44d3069430erow23_col7 {\n",
       "            background-color:  #e0ffff;\n",
       "        }    #T_503b9aa2_9db8_11e9_8504_f44d3069430erow23_col8 {\n",
       "            background-color:  #87ffff;\n",
       "        }    #T_503b9aa2_9db8_11e9_8504_f44d3069430erow24_col2 {\n",
       "            background-color:  #87ffff;\n",
       "        }    #T_503b9aa2_9db8_11e9_8504_f44d3069430erow24_col3 {\n",
       "            background-color:  #e0ffff;\n",
       "        }    #T_503b9aa2_9db8_11e9_8504_f44d3069430erow24_col4 {\n",
       "            background-color:  #e0ffff;\n",
       "        }    #T_503b9aa2_9db8_11e9_8504_f44d3069430erow24_col5 {\n",
       "            background-color:  #e0ffff;\n",
       "        }    #T_503b9aa2_9db8_11e9_8504_f44d3069430erow24_col6 {\n",
       "            background-color:  #b3ffff;\n",
       "        }    #T_503b9aa2_9db8_11e9_8504_f44d3069430erow24_col7 {\n",
       "            background-color:  #e0ffff;\n",
       "        }    #T_503b9aa2_9db8_11e9_8504_f44d3069430erow24_col8 {\n",
       "            background-color:  #87ffff;\n",
       "        }    #T_503b9aa2_9db8_11e9_8504_f44d3069430erow25_col2 {\n",
       "            background-color:  #62e4ff;\n",
       "        }    #T_503b9aa2_9db8_11e9_8504_f44d3069430erow25_col3 {\n",
       "            background-color:  #e0ffff;\n",
       "        }    #T_503b9aa2_9db8_11e9_8504_f44d3069430erow25_col4 {\n",
       "            background-color:  #e0ffff;\n",
       "        }    #T_503b9aa2_9db8_11e9_8504_f44d3069430erow25_col5 {\n",
       "            background-color:  #e0ffff;\n",
       "        }    #T_503b9aa2_9db8_11e9_8504_f44d3069430erow25_col6 {\n",
       "            background-color:  #b3ffff;\n",
       "        }    #T_503b9aa2_9db8_11e9_8504_f44d3069430erow25_col7 {\n",
       "            background-color:  #b3ffff;\n",
       "        }    #T_503b9aa2_9db8_11e9_8504_f44d3069430erow25_col8 {\n",
       "            background-color:  #87ffff;\n",
       "        }    #T_503b9aa2_9db8_11e9_8504_f44d3069430erow26_col2 {\n",
       "            background-color:  #62e4ff;\n",
       "        }    #T_503b9aa2_9db8_11e9_8504_f44d3069430erow26_col3 {\n",
       "            background-color:  #b3ffff;\n",
       "        }    #T_503b9aa2_9db8_11e9_8504_f44d3069430erow26_col4 {\n",
       "            background-color:  #e0ffff;\n",
       "        }    #T_503b9aa2_9db8_11e9_8504_f44d3069430erow26_col5 {\n",
       "            background-color:  #e0ffff;\n",
       "        }    #T_503b9aa2_9db8_11e9_8504_f44d3069430erow26_col6 {\n",
       "            background-color:  #b3ffff;\n",
       "        }    #T_503b9aa2_9db8_11e9_8504_f44d3069430erow26_col7 {\n",
       "            background-color:  #b3ffff;\n",
       "        }    #T_503b9aa2_9db8_11e9_8504_f44d3069430erow26_col8 {\n",
       "            background-color:  #87ffff;\n",
       "        }    #T_503b9aa2_9db8_11e9_8504_f44d3069430erow27_col2 {\n",
       "            background-color:  #62e4ff;\n",
       "        }    #T_503b9aa2_9db8_11e9_8504_f44d3069430erow27_col3 {\n",
       "            background-color:  #b3ffff;\n",
       "        }    #T_503b9aa2_9db8_11e9_8504_f44d3069430erow27_col4 {\n",
       "            background-color:  #e0ffff;\n",
       "        }    #T_503b9aa2_9db8_11e9_8504_f44d3069430erow27_col5 {\n",
       "            background-color:  #e0ffff;\n",
       "        }    #T_503b9aa2_9db8_11e9_8504_f44d3069430erow27_col6 {\n",
       "            background-color:  #b3ffff;\n",
       "        }    #T_503b9aa2_9db8_11e9_8504_f44d3069430erow27_col7 {\n",
       "            background-color:  #b3ffff;\n",
       "        }    #T_503b9aa2_9db8_11e9_8504_f44d3069430erow27_col8 {\n",
       "            background-color:  #87ffff;\n",
       "        }    #T_503b9aa2_9db8_11e9_8504_f44d3069430erow28_col2 {\n",
       "            background-color:  #62e4ff;\n",
       "        }    #T_503b9aa2_9db8_11e9_8504_f44d3069430erow28_col3 {\n",
       "            background-color:  #b3ffff;\n",
       "        }    #T_503b9aa2_9db8_11e9_8504_f44d3069430erow28_col4 {\n",
       "            background-color:  #e0ffff;\n",
       "        }    #T_503b9aa2_9db8_11e9_8504_f44d3069430erow28_col5 {\n",
       "            background-color:  #b3ffff;\n",
       "        }    #T_503b9aa2_9db8_11e9_8504_f44d3069430erow28_col6 {\n",
       "            background-color:  #b3ffff;\n",
       "        }    #T_503b9aa2_9db8_11e9_8504_f44d3069430erow28_col7 {\n",
       "            background-color:  #b3ffff;\n",
       "        }    #T_503b9aa2_9db8_11e9_8504_f44d3069430erow28_col8 {\n",
       "            background-color:  #87ffff;\n",
       "        }    #T_503b9aa2_9db8_11e9_8504_f44d3069430erow29_col2 {\n",
       "            background-color:  #62e4ff;\n",
       "        }    #T_503b9aa2_9db8_11e9_8504_f44d3069430erow29_col3 {\n",
       "            background-color:  #87ffff;\n",
       "        }    #T_503b9aa2_9db8_11e9_8504_f44d3069430erow29_col4 {\n",
       "            background-color:  #b3ffff;\n",
       "        }    #T_503b9aa2_9db8_11e9_8504_f44d3069430erow29_col5 {\n",
       "            background-color:  #87ffff;\n",
       "        }    #T_503b9aa2_9db8_11e9_8504_f44d3069430erow29_col6 {\n",
       "            background-color:  #62e4ff;\n",
       "        }    #T_503b9aa2_9db8_11e9_8504_f44d3069430erow29_col7 {\n",
       "            background-color:  #87ffff;\n",
       "        }    #T_503b9aa2_9db8_11e9_8504_f44d3069430erow29_col8 {\n",
       "            background-color:  #62e4ff;\n",
       "        }    #T_503b9aa2_9db8_11e9_8504_f44d3069430erow30_col2 {\n",
       "            background-color:  #62e4ff;\n",
       "        }    #T_503b9aa2_9db8_11e9_8504_f44d3069430erow30_col3 {\n",
       "            background-color:  #62e4ff;\n",
       "        }    #T_503b9aa2_9db8_11e9_8504_f44d3069430erow30_col4 {\n",
       "            background-color:  #87ffff;\n",
       "        }    #T_503b9aa2_9db8_11e9_8504_f44d3069430erow30_col5 {\n",
       "            background-color:  #62e4ff;\n",
       "        }    #T_503b9aa2_9db8_11e9_8504_f44d3069430erow30_col6 {\n",
       "            background-color:  #62e4ff;\n",
       "        }    #T_503b9aa2_9db8_11e9_8504_f44d3069430erow30_col7 {\n",
       "            background-color:  #62e4ff;\n",
       "        }    #T_503b9aa2_9db8_11e9_8504_f44d3069430erow30_col8 {\n",
       "            background-color:  #62e4ff;\n",
       "        }    #T_503b9aa2_9db8_11e9_8504_f44d3069430erow31_col2 {\n",
       "            background-color:  #62e4ff;\n",
       "        }    #T_503b9aa2_9db8_11e9_8504_f44d3069430erow31_col3 {\n",
       "            background-color:  #62e4ff;\n",
       "        }    #T_503b9aa2_9db8_11e9_8504_f44d3069430erow31_col4 {\n",
       "            background-color:  #62e4ff;\n",
       "        }    #T_503b9aa2_9db8_11e9_8504_f44d3069430erow31_col5 {\n",
       "            background-color:  #62e4ff;\n",
       "        }    #T_503b9aa2_9db8_11e9_8504_f44d3069430erow31_col6 {\n",
       "            background-color:  #62e4ff;\n",
       "        }    #T_503b9aa2_9db8_11e9_8504_f44d3069430erow31_col7 {\n",
       "            background-color:  #62e4ff;\n",
       "        }    #T_503b9aa2_9db8_11e9_8504_f44d3069430erow31_col8 {\n",
       "            background-color:  #62e4ff;\n",
       "        }</style><table id=\"T_503b9aa2_9db8_11e9_8504_f44d3069430e\" ><thead>    <tr>        <th class=\"blank level0\" ></th>        <th class=\"col_heading level0 col0\" >NAME</th>        <th class=\"col_heading level0 col1\" >PCGDP1940</th>        <th class=\"col_heading level0 col2\" >q540</th>        <th class=\"col_heading level0 col3\" >ei540</th>        <th class=\"col_heading level0 col4\" >ht40</th>        <th class=\"col_heading level0 col5\" >mb540</th>        <th class=\"col_heading level0 col6\" >msd40</th>        <th class=\"col_heading level0 col7\" >fj540</th>        <th class=\"col_heading level0 col8\" >jc540</th>    </tr></thead><tbody>\n",
       "                <tr>\n",
       "                        <th id=\"T_503b9aa2_9db8_11e9_8504_f44d3069430elevel0_row0\" class=\"row_heading level0 row0\" >19</th>\n",
       "                        <td id=\"T_503b9aa2_9db8_11e9_8504_f44d3069430erow0_col0\" class=\"data row0 col0\" >Oaxaca</td>\n",
       "                        <td id=\"T_503b9aa2_9db8_11e9_8504_f44d3069430erow0_col1\" class=\"data row0 col1\" >1892</td>\n",
       "                        <td id=\"T_503b9aa2_9db8_11e9_8504_f44d3069430erow0_col2\" class=\"data row0 col2\" >0</td>\n",
       "                        <td id=\"T_503b9aa2_9db8_11e9_8504_f44d3069430erow0_col3\" class=\"data row0 col3\" >0</td>\n",
       "                        <td id=\"T_503b9aa2_9db8_11e9_8504_f44d3069430erow0_col4\" class=\"data row0 col4\" >0</td>\n",
       "                        <td id=\"T_503b9aa2_9db8_11e9_8504_f44d3069430erow0_col5\" class=\"data row0 col5\" >0</td>\n",
       "                        <td id=\"T_503b9aa2_9db8_11e9_8504_f44d3069430erow0_col6\" class=\"data row0 col6\" >1</td>\n",
       "                        <td id=\"T_503b9aa2_9db8_11e9_8504_f44d3069430erow0_col7\" class=\"data row0 col7\" >0</td>\n",
       "                        <td id=\"T_503b9aa2_9db8_11e9_8504_f44d3069430erow0_col8\" class=\"data row0 col8\" >0</td>\n",
       "            </tr>\n",
       "            <tr>\n",
       "                        <th id=\"T_503b9aa2_9db8_11e9_8504_f44d3069430elevel0_row1\" class=\"row_heading level0 row1\" >18</th>\n",
       "                        <td id=\"T_503b9aa2_9db8_11e9_8504_f44d3069430erow1_col0\" class=\"data row1 col0\" >Guerrero</td>\n",
       "                        <td id=\"T_503b9aa2_9db8_11e9_8504_f44d3069430erow1_col1\" class=\"data row1 col1\" >2181</td>\n",
       "                        <td id=\"T_503b9aa2_9db8_11e9_8504_f44d3069430erow1_col2\" class=\"data row1 col2\" >0</td>\n",
       "                        <td id=\"T_503b9aa2_9db8_11e9_8504_f44d3069430erow1_col3\" class=\"data row1 col3\" >0</td>\n",
       "                        <td id=\"T_503b9aa2_9db8_11e9_8504_f44d3069430erow1_col4\" class=\"data row1 col4\" >0</td>\n",
       "                        <td id=\"T_503b9aa2_9db8_11e9_8504_f44d3069430erow1_col5\" class=\"data row1 col5\" >0</td>\n",
       "                        <td id=\"T_503b9aa2_9db8_11e9_8504_f44d3069430erow1_col6\" class=\"data row1 col6\" >2</td>\n",
       "                        <td id=\"T_503b9aa2_9db8_11e9_8504_f44d3069430erow1_col7\" class=\"data row1 col7\" >0</td>\n",
       "                        <td id=\"T_503b9aa2_9db8_11e9_8504_f44d3069430erow1_col8\" class=\"data row1 col8\" >0</td>\n",
       "            </tr>\n",
       "            <tr>\n",
       "                        <th id=\"T_503b9aa2_9db8_11e9_8504_f44d3069430elevel0_row2\" class=\"row_heading level0 row2\" >20</th>\n",
       "                        <td id=\"T_503b9aa2_9db8_11e9_8504_f44d3069430erow2_col0\" class=\"data row2 col0\" >Tabasco</td>\n",
       "                        <td id=\"T_503b9aa2_9db8_11e9_8504_f44d3069430erow2_col1\" class=\"data row2 col1\" >2459</td>\n",
       "                        <td id=\"T_503b9aa2_9db8_11e9_8504_f44d3069430erow2_col2\" class=\"data row2 col2\" >0</td>\n",
       "                        <td id=\"T_503b9aa2_9db8_11e9_8504_f44d3069430erow2_col3\" class=\"data row2 col3\" >0</td>\n",
       "                        <td id=\"T_503b9aa2_9db8_11e9_8504_f44d3069430erow2_col4\" class=\"data row2 col4\" >0</td>\n",
       "                        <td id=\"T_503b9aa2_9db8_11e9_8504_f44d3069430erow2_col5\" class=\"data row2 col5\" >0</td>\n",
       "                        <td id=\"T_503b9aa2_9db8_11e9_8504_f44d3069430erow2_col6\" class=\"data row2 col6\" >2</td>\n",
       "                        <td id=\"T_503b9aa2_9db8_11e9_8504_f44d3069430erow2_col7\" class=\"data row2 col7\" >0</td>\n",
       "                        <td id=\"T_503b9aa2_9db8_11e9_8504_f44d3069430erow2_col8\" class=\"data row2 col8\" >0</td>\n",
       "            </tr>\n",
       "            <tr>\n",
       "                        <th id=\"T_503b9aa2_9db8_11e9_8504_f44d3069430elevel0_row3\" class=\"row_heading level0 row3\" >21</th>\n",
       "                        <td id=\"T_503b9aa2_9db8_11e9_8504_f44d3069430erow3_col0\" class=\"data row3 col0\" >Chiapas</td>\n",
       "                        <td id=\"T_503b9aa2_9db8_11e9_8504_f44d3069430erow3_col1\" class=\"data row3 col1\" >2934</td>\n",
       "                        <td id=\"T_503b9aa2_9db8_11e9_8504_f44d3069430erow3_col2\" class=\"data row3 col2\" >0</td>\n",
       "                        <td id=\"T_503b9aa2_9db8_11e9_8504_f44d3069430erow3_col3\" class=\"data row3 col3\" >0</td>\n",
       "                        <td id=\"T_503b9aa2_9db8_11e9_8504_f44d3069430erow3_col4\" class=\"data row3 col4\" >0</td>\n",
       "                        <td id=\"T_503b9aa2_9db8_11e9_8504_f44d3069430erow3_col5\" class=\"data row3 col5\" >0</td>\n",
       "                        <td id=\"T_503b9aa2_9db8_11e9_8504_f44d3069430erow3_col6\" class=\"data row3 col6\" >2</td>\n",
       "                        <td id=\"T_503b9aa2_9db8_11e9_8504_f44d3069430erow3_col7\" class=\"data row3 col7\" >0</td>\n",
       "                        <td id=\"T_503b9aa2_9db8_11e9_8504_f44d3069430erow3_col8\" class=\"data row3 col8\" >0</td>\n",
       "            </tr>\n",
       "            <tr>\n",
       "                        <th id=\"T_503b9aa2_9db8_11e9_8504_f44d3069430elevel0_row4\" class=\"row_heading level0 row4\" >8</th>\n",
       "                        <td id=\"T_503b9aa2_9db8_11e9_8504_f44d3069430erow4_col0\" class=\"data row4 col0\" >Michoacan de Ocampo</td>\n",
       "                        <td id=\"T_503b9aa2_9db8_11e9_8504_f44d3069430erow4_col1\" class=\"data row4 col1\" >3327</td>\n",
       "                        <td id=\"T_503b9aa2_9db8_11e9_8504_f44d3069430erow4_col2\" class=\"data row4 col2\" >0</td>\n",
       "                        <td id=\"T_503b9aa2_9db8_11e9_8504_f44d3069430erow4_col3\" class=\"data row4 col3\" >0</td>\n",
       "                        <td id=\"T_503b9aa2_9db8_11e9_8504_f44d3069430erow4_col4\" class=\"data row4 col4\" >0</td>\n",
       "                        <td id=\"T_503b9aa2_9db8_11e9_8504_f44d3069430erow4_col5\" class=\"data row4 col5\" >0</td>\n",
       "                        <td id=\"T_503b9aa2_9db8_11e9_8504_f44d3069430erow4_col6\" class=\"data row4 col6\" >2</td>\n",
       "                        <td id=\"T_503b9aa2_9db8_11e9_8504_f44d3069430erow4_col7\" class=\"data row4 col7\" >0</td>\n",
       "                        <td id=\"T_503b9aa2_9db8_11e9_8504_f44d3069430erow4_col8\" class=\"data row4 col8\" >1</td>\n",
       "            </tr>\n",
       "            <tr>\n",
       "                        <th id=\"T_503b9aa2_9db8_11e9_8504_f44d3069430elevel0_row5\" class=\"row_heading level0 row5\" >9</th>\n",
       "                        <td id=\"T_503b9aa2_9db8_11e9_8504_f44d3069430erow5_col0\" class=\"data row5 col0\" >Mexico</td>\n",
       "                        <td id=\"T_503b9aa2_9db8_11e9_8504_f44d3069430erow5_col1\" class=\"data row5 col1\" >3408</td>\n",
       "                        <td id=\"T_503b9aa2_9db8_11e9_8504_f44d3069430erow5_col2\" class=\"data row5 col2\" >0</td>\n",
       "                        <td id=\"T_503b9aa2_9db8_11e9_8504_f44d3069430erow5_col3\" class=\"data row5 col3\" >0</td>\n",
       "                        <td id=\"T_503b9aa2_9db8_11e9_8504_f44d3069430erow5_col4\" class=\"data row5 col4\" >0</td>\n",
       "                        <td id=\"T_503b9aa2_9db8_11e9_8504_f44d3069430erow5_col5\" class=\"data row5 col5\" >0</td>\n",
       "                        <td id=\"T_503b9aa2_9db8_11e9_8504_f44d3069430erow5_col6\" class=\"data row5 col6\" >2</td>\n",
       "                        <td id=\"T_503b9aa2_9db8_11e9_8504_f44d3069430erow5_col7\" class=\"data row5 col7\" >0</td>\n",
       "                        <td id=\"T_503b9aa2_9db8_11e9_8504_f44d3069430erow5_col8\" class=\"data row5 col8\" >1</td>\n",
       "            </tr>\n",
       "            <tr>\n",
       "                        <th id=\"T_503b9aa2_9db8_11e9_8504_f44d3069430elevel0_row6\" class=\"row_heading level0 row6\" >15</th>\n",
       "                        <td id=\"T_503b9aa2_9db8_11e9_8504_f44d3069430erow6_col0\" class=\"data row6 col0\" >Puebla</td>\n",
       "                        <td id=\"T_503b9aa2_9db8_11e9_8504_f44d3069430erow6_col1\" class=\"data row6 col1\" >3569</td>\n",
       "                        <td id=\"T_503b9aa2_9db8_11e9_8504_f44d3069430erow6_col2\" class=\"data row6 col2\" >0</td>\n",
       "                        <td id=\"T_503b9aa2_9db8_11e9_8504_f44d3069430erow6_col3\" class=\"data row6 col3\" >0</td>\n",
       "                        <td id=\"T_503b9aa2_9db8_11e9_8504_f44d3069430erow6_col4\" class=\"data row6 col4\" >0</td>\n",
       "                        <td id=\"T_503b9aa2_9db8_11e9_8504_f44d3069430erow6_col5\" class=\"data row6 col5\" >0</td>\n",
       "                        <td id=\"T_503b9aa2_9db8_11e9_8504_f44d3069430erow6_col6\" class=\"data row6 col6\" >2</td>\n",
       "                        <td id=\"T_503b9aa2_9db8_11e9_8504_f44d3069430erow6_col7\" class=\"data row6 col7\" >0</td>\n",
       "                        <td id=\"T_503b9aa2_9db8_11e9_8504_f44d3069430erow6_col8\" class=\"data row6 col8\" >1</td>\n",
       "            </tr>\n",
       "            <tr>\n",
       "                        <th id=\"T_503b9aa2_9db8_11e9_8504_f44d3069430elevel0_row7\" class=\"row_heading level0 row7\" >17</th>\n",
       "                        <td id=\"T_503b9aa2_9db8_11e9_8504_f44d3069430erow7_col0\" class=\"data row7 col0\" >Tlaxcala</td>\n",
       "                        <td id=\"T_503b9aa2_9db8_11e9_8504_f44d3069430erow7_col1\" class=\"data row7 col1\" >3605</td>\n",
       "                        <td id=\"T_503b9aa2_9db8_11e9_8504_f44d3069430erow7_col2\" class=\"data row7 col2\" >1</td>\n",
       "                        <td id=\"T_503b9aa2_9db8_11e9_8504_f44d3069430erow7_col3\" class=\"data row7 col3\" >0</td>\n",
       "                        <td id=\"T_503b9aa2_9db8_11e9_8504_f44d3069430erow7_col4\" class=\"data row7 col4\" >0</td>\n",
       "                        <td id=\"T_503b9aa2_9db8_11e9_8504_f44d3069430erow7_col5\" class=\"data row7 col5\" >0</td>\n",
       "                        <td id=\"T_503b9aa2_9db8_11e9_8504_f44d3069430erow7_col6\" class=\"data row7 col6\" >2</td>\n",
       "                        <td id=\"T_503b9aa2_9db8_11e9_8504_f44d3069430erow7_col7\" class=\"data row7 col7\" >0</td>\n",
       "                        <td id=\"T_503b9aa2_9db8_11e9_8504_f44d3069430erow7_col8\" class=\"data row7 col8\" >1</td>\n",
       "            </tr>\n",
       "            <tr>\n",
       "                        <th id=\"T_503b9aa2_9db8_11e9_8504_f44d3069430elevel0_row8\" class=\"row_heading level0 row8\" >27</th>\n",
       "                        <td id=\"T_503b9aa2_9db8_11e9_8504_f44d3069430erow8_col0\" class=\"data row8 col0\" >Zacatecas</td>\n",
       "                        <td id=\"T_503b9aa2_9db8_11e9_8504_f44d3069430erow8_col1\" class=\"data row8 col1\" >3734</td>\n",
       "                        <td id=\"T_503b9aa2_9db8_11e9_8504_f44d3069430erow8_col2\" class=\"data row8 col2\" >1</td>\n",
       "                        <td id=\"T_503b9aa2_9db8_11e9_8504_f44d3069430erow8_col3\" class=\"data row8 col3\" >0</td>\n",
       "                        <td id=\"T_503b9aa2_9db8_11e9_8504_f44d3069430erow8_col4\" class=\"data row8 col4\" >0</td>\n",
       "                        <td id=\"T_503b9aa2_9db8_11e9_8504_f44d3069430erow8_col5\" class=\"data row8 col5\" >0</td>\n",
       "                        <td id=\"T_503b9aa2_9db8_11e9_8504_f44d3069430erow8_col6\" class=\"data row8 col6\" >2</td>\n",
       "                        <td id=\"T_503b9aa2_9db8_11e9_8504_f44d3069430erow8_col7\" class=\"data row8 col7\" >0</td>\n",
       "                        <td id=\"T_503b9aa2_9db8_11e9_8504_f44d3069430erow8_col8\" class=\"data row8 col8\" >1</td>\n",
       "            </tr>\n",
       "            <tr>\n",
       "                        <th id=\"T_503b9aa2_9db8_11e9_8504_f44d3069430elevel0_row9\" class=\"row_heading level0 row9\" >14</th>\n",
       "                        <td id=\"T_503b9aa2_9db8_11e9_8504_f44d3069430erow9_col0\" class=\"data row9 col0\" >Campeche</td>\n",
       "                        <td id=\"T_503b9aa2_9db8_11e9_8504_f44d3069430erow9_col1\" class=\"data row9 col1\" >3758</td>\n",
       "                        <td id=\"T_503b9aa2_9db8_11e9_8504_f44d3069430erow9_col2\" class=\"data row9 col2\" >1</td>\n",
       "                        <td id=\"T_503b9aa2_9db8_11e9_8504_f44d3069430erow9_col3\" class=\"data row9 col3\" >0</td>\n",
       "                        <td id=\"T_503b9aa2_9db8_11e9_8504_f44d3069430erow9_col4\" class=\"data row9 col4\" >0</td>\n",
       "                        <td id=\"T_503b9aa2_9db8_11e9_8504_f44d3069430erow9_col5\" class=\"data row9 col5\" >0</td>\n",
       "                        <td id=\"T_503b9aa2_9db8_11e9_8504_f44d3069430erow9_col6\" class=\"data row9 col6\" >2</td>\n",
       "                        <td id=\"T_503b9aa2_9db8_11e9_8504_f44d3069430erow9_col7\" class=\"data row9 col7\" >0</td>\n",
       "                        <td id=\"T_503b9aa2_9db8_11e9_8504_f44d3069430erow9_col8\" class=\"data row9 col8\" >1</td>\n",
       "            </tr>\n",
       "            <tr>\n",
       "                        <th id=\"T_503b9aa2_9db8_11e9_8504_f44d3069430elevel0_row10\" class=\"row_heading level0 row10\" >5</th>\n",
       "                        <td id=\"T_503b9aa2_9db8_11e9_8504_f44d3069430erow10_col0\" class=\"data row10 col0\" >Guanajuato</td>\n",
       "                        <td id=\"T_503b9aa2_9db8_11e9_8504_f44d3069430erow10_col1\" class=\"data row10 col1\" >4359</td>\n",
       "                        <td id=\"T_503b9aa2_9db8_11e9_8504_f44d3069430erow10_col2\" class=\"data row10 col2\" >1</td>\n",
       "                        <td id=\"T_503b9aa2_9db8_11e9_8504_f44d3069430erow10_col3\" class=\"data row10 col3\" >0</td>\n",
       "                        <td id=\"T_503b9aa2_9db8_11e9_8504_f44d3069430erow10_col4\" class=\"data row10 col4\" >0</td>\n",
       "                        <td id=\"T_503b9aa2_9db8_11e9_8504_f44d3069430erow10_col5\" class=\"data row10 col5\" >0</td>\n",
       "                        <td id=\"T_503b9aa2_9db8_11e9_8504_f44d3069430erow10_col6\" class=\"data row10 col6\" >2</td>\n",
       "                        <td id=\"T_503b9aa2_9db8_11e9_8504_f44d3069430erow10_col7\" class=\"data row10 col7\" >0</td>\n",
       "                        <td id=\"T_503b9aa2_9db8_11e9_8504_f44d3069430erow10_col8\" class=\"data row10 col8\" >1</td>\n",
       "            </tr>\n",
       "            <tr>\n",
       "                        <th id=\"T_503b9aa2_9db8_11e9_8504_f44d3069430elevel0_row11\" class=\"row_heading level0 row11\" >28</th>\n",
       "                        <td id=\"T_503b9aa2_9db8_11e9_8504_f44d3069430erow11_col0\" class=\"data row11 col0\" >San Luis Potosi</td>\n",
       "                        <td id=\"T_503b9aa2_9db8_11e9_8504_f44d3069430erow11_col1\" class=\"data row11 col1\" >4372</td>\n",
       "                        <td id=\"T_503b9aa2_9db8_11e9_8504_f44d3069430erow11_col2\" class=\"data row11 col2\" >1</td>\n",
       "                        <td id=\"T_503b9aa2_9db8_11e9_8504_f44d3069430erow11_col3\" class=\"data row11 col3\" >0</td>\n",
       "                        <td id=\"T_503b9aa2_9db8_11e9_8504_f44d3069430erow11_col4\" class=\"data row11 col4\" >0</td>\n",
       "                        <td id=\"T_503b9aa2_9db8_11e9_8504_f44d3069430erow11_col5\" class=\"data row11 col5\" >0</td>\n",
       "                        <td id=\"T_503b9aa2_9db8_11e9_8504_f44d3069430erow11_col6\" class=\"data row11 col6\" >2</td>\n",
       "                        <td id=\"T_503b9aa2_9db8_11e9_8504_f44d3069430erow11_col7\" class=\"data row11 col7\" >0</td>\n",
       "                        <td id=\"T_503b9aa2_9db8_11e9_8504_f44d3069430erow11_col8\" class=\"data row11 col8\" >1</td>\n",
       "            </tr>\n",
       "            <tr>\n",
       "                        <th id=\"T_503b9aa2_9db8_11e9_8504_f44d3069430elevel0_row12\" class=\"row_heading level0 row12\" >7</th>\n",
       "                        <td id=\"T_503b9aa2_9db8_11e9_8504_f44d3069430erow12_col0\" class=\"data row12 col0\" >Hidalgo</td>\n",
       "                        <td id=\"T_503b9aa2_9db8_11e9_8504_f44d3069430erow12_col1\" class=\"data row12 col1\" >4414</td>\n",
       "                        <td id=\"T_503b9aa2_9db8_11e9_8504_f44d3069430erow12_col2\" class=\"data row12 col2\" >1</td>\n",
       "                        <td id=\"T_503b9aa2_9db8_11e9_8504_f44d3069430erow12_col3\" class=\"data row12 col3\" >0</td>\n",
       "                        <td id=\"T_503b9aa2_9db8_11e9_8504_f44d3069430erow12_col4\" class=\"data row12 col4\" >0</td>\n",
       "                        <td id=\"T_503b9aa2_9db8_11e9_8504_f44d3069430erow12_col5\" class=\"data row12 col5\" >0</td>\n",
       "                        <td id=\"T_503b9aa2_9db8_11e9_8504_f44d3069430erow12_col6\" class=\"data row12 col6\" >2</td>\n",
       "                        <td id=\"T_503b9aa2_9db8_11e9_8504_f44d3069430erow12_col7\" class=\"data row12 col7\" >0</td>\n",
       "                        <td id=\"T_503b9aa2_9db8_11e9_8504_f44d3069430erow12_col8\" class=\"data row12 col8\" >1</td>\n",
       "            </tr>\n",
       "            <tr>\n",
       "                        <th id=\"T_503b9aa2_9db8_11e9_8504_f44d3069430elevel0_row13\" class=\"row_heading level0 row13\" >2</th>\n",
       "                        <td id=\"T_503b9aa2_9db8_11e9_8504_f44d3069430erow13_col0\" class=\"data row13 col0\" >Nayarit</td>\n",
       "                        <td id=\"T_503b9aa2_9db8_11e9_8504_f44d3069430erow13_col1\" class=\"data row13 col1\" >4836</td>\n",
       "                        <td id=\"T_503b9aa2_9db8_11e9_8504_f44d3069430erow13_col2\" class=\"data row13 col2\" >2</td>\n",
       "                        <td id=\"T_503b9aa2_9db8_11e9_8504_f44d3069430erow13_col3\" class=\"data row13 col3\" >0</td>\n",
       "                        <td id=\"T_503b9aa2_9db8_11e9_8504_f44d3069430erow13_col4\" class=\"data row13 col4\" >0</td>\n",
       "                        <td id=\"T_503b9aa2_9db8_11e9_8504_f44d3069430erow13_col5\" class=\"data row13 col5\" >0</td>\n",
       "                        <td id=\"T_503b9aa2_9db8_11e9_8504_f44d3069430erow13_col6\" class=\"data row13 col6\" >2</td>\n",
       "                        <td id=\"T_503b9aa2_9db8_11e9_8504_f44d3069430erow13_col7\" class=\"data row13 col7\" >0</td>\n",
       "                        <td id=\"T_503b9aa2_9db8_11e9_8504_f44d3069430erow13_col8\" class=\"data row13 col8\" >2</td>\n",
       "            </tr>\n",
       "            <tr>\n",
       "                        <th id=\"T_503b9aa2_9db8_11e9_8504_f44d3069430elevel0_row14\" class=\"row_heading level0 row14\" >25</th>\n",
       "                        <td id=\"T_503b9aa2_9db8_11e9_8504_f44d3069430erow14_col0\" class=\"data row14 col0\" >Sinaloa</td>\n",
       "                        <td id=\"T_503b9aa2_9db8_11e9_8504_f44d3069430erow14_col1\" class=\"data row14 col1\" >4840</td>\n",
       "                        <td id=\"T_503b9aa2_9db8_11e9_8504_f44d3069430erow14_col2\" class=\"data row14 col2\" >2</td>\n",
       "                        <td id=\"T_503b9aa2_9db8_11e9_8504_f44d3069430erow14_col3\" class=\"data row14 col3\" >0</td>\n",
       "                        <td id=\"T_503b9aa2_9db8_11e9_8504_f44d3069430erow14_col4\" class=\"data row14 col4\" >0</td>\n",
       "                        <td id=\"T_503b9aa2_9db8_11e9_8504_f44d3069430erow14_col5\" class=\"data row14 col5\" >0</td>\n",
       "                        <td id=\"T_503b9aa2_9db8_11e9_8504_f44d3069430erow14_col6\" class=\"data row14 col6\" >2</td>\n",
       "                        <td id=\"T_503b9aa2_9db8_11e9_8504_f44d3069430erow14_col7\" class=\"data row14 col7\" >0</td>\n",
       "                        <td id=\"T_503b9aa2_9db8_11e9_8504_f44d3069430erow14_col8\" class=\"data row14 col8\" >2</td>\n",
       "            </tr>\n",
       "            <tr>\n",
       "                        <th id=\"T_503b9aa2_9db8_11e9_8504_f44d3069430elevel0_row15\" class=\"row_heading level0 row15\" >31</th>\n",
       "                        <td id=\"T_503b9aa2_9db8_11e9_8504_f44d3069430erow15_col0\" class=\"data row15 col0\" >Veracruz-Llave</td>\n",
       "                        <td id=\"T_503b9aa2_9db8_11e9_8504_f44d3069430erow15_col1\" class=\"data row15 col1\" >5203</td>\n",
       "                        <td id=\"T_503b9aa2_9db8_11e9_8504_f44d3069430erow15_col2\" class=\"data row15 col2\" >2</td>\n",
       "                        <td id=\"T_503b9aa2_9db8_11e9_8504_f44d3069430erow15_col3\" class=\"data row15 col3\" >0</td>\n",
       "                        <td id=\"T_503b9aa2_9db8_11e9_8504_f44d3069430erow15_col4\" class=\"data row15 col4\" >0</td>\n",
       "                        <td id=\"T_503b9aa2_9db8_11e9_8504_f44d3069430erow15_col5\" class=\"data row15 col5\" >0</td>\n",
       "                        <td id=\"T_503b9aa2_9db8_11e9_8504_f44d3069430erow15_col6\" class=\"data row15 col6\" >2</td>\n",
       "                        <td id=\"T_503b9aa2_9db8_11e9_8504_f44d3069430erow15_col7\" class=\"data row15 col7\" >0</td>\n",
       "                        <td id=\"T_503b9aa2_9db8_11e9_8504_f44d3069430erow15_col8\" class=\"data row15 col8\" >2</td>\n",
       "            </tr>\n",
       "            <tr>\n",
       "                        <th id=\"T_503b9aa2_9db8_11e9_8504_f44d3069430elevel0_row16\" class=\"row_heading level0 row16\" >3</th>\n",
       "                        <td id=\"T_503b9aa2_9db8_11e9_8504_f44d3069430erow16_col0\" class=\"data row16 col0\" >Jalisco</td>\n",
       "                        <td id=\"T_503b9aa2_9db8_11e9_8504_f44d3069430erow16_col1\" class=\"data row16 col1\" >5309</td>\n",
       "                        <td id=\"T_503b9aa2_9db8_11e9_8504_f44d3069430erow16_col2\" class=\"data row16 col2\" >2</td>\n",
       "                        <td id=\"T_503b9aa2_9db8_11e9_8504_f44d3069430erow16_col3\" class=\"data row16 col3\" >0</td>\n",
       "                        <td id=\"T_503b9aa2_9db8_11e9_8504_f44d3069430erow16_col4\" class=\"data row16 col4\" >0</td>\n",
       "                        <td id=\"T_503b9aa2_9db8_11e9_8504_f44d3069430erow16_col5\" class=\"data row16 col5\" >0</td>\n",
       "                        <td id=\"T_503b9aa2_9db8_11e9_8504_f44d3069430erow16_col6\" class=\"data row16 col6\" >2</td>\n",
       "                        <td id=\"T_503b9aa2_9db8_11e9_8504_f44d3069430erow16_col7\" class=\"data row16 col7\" >0</td>\n",
       "                        <td id=\"T_503b9aa2_9db8_11e9_8504_f44d3069430erow16_col8\" class=\"data row16 col8\" >2</td>\n",
       "            </tr>\n",
       "            <tr>\n",
       "                        <th id=\"T_503b9aa2_9db8_11e9_8504_f44d3069430elevel0_row17\" class=\"row_heading level0 row17\" >22</th>\n",
       "                        <td id=\"T_503b9aa2_9db8_11e9_8504_f44d3069430erow17_col0\" class=\"data row17 col0\" >Sonora</td>\n",
       "                        <td id=\"T_503b9aa2_9db8_11e9_8504_f44d3069430erow17_col1\" class=\"data row17 col1\" >6399</td>\n",
       "                        <td id=\"T_503b9aa2_9db8_11e9_8504_f44d3069430erow17_col2\" class=\"data row17 col2\" >2</td>\n",
       "                        <td id=\"T_503b9aa2_9db8_11e9_8504_f44d3069430erow17_col3\" class=\"data row17 col3\" >1</td>\n",
       "                        <td id=\"T_503b9aa2_9db8_11e9_8504_f44d3069430erow17_col4\" class=\"data row17 col4\" >0</td>\n",
       "                        <td id=\"T_503b9aa2_9db8_11e9_8504_f44d3069430erow17_col5\" class=\"data row17 col5\" >1</td>\n",
       "                        <td id=\"T_503b9aa2_9db8_11e9_8504_f44d3069430erow17_col6\" class=\"data row17 col6\" >2</td>\n",
       "                        <td id=\"T_503b9aa2_9db8_11e9_8504_f44d3069430erow17_col7\" class=\"data row17 col7\" >1</td>\n",
       "                        <td id=\"T_503b9aa2_9db8_11e9_8504_f44d3069430erow17_col8\" class=\"data row17 col8\" >2</td>\n",
       "            </tr>\n",
       "            <tr>\n",
       "                        <th id=\"T_503b9aa2_9db8_11e9_8504_f44d3069430elevel0_row18\" class=\"row_heading level0 row18\" >11</th>\n",
       "                        <td id=\"T_503b9aa2_9db8_11e9_8504_f44d3069430erow18_col0\" class=\"data row18 col0\" >Colima</td>\n",
       "                        <td id=\"T_503b9aa2_9db8_11e9_8504_f44d3069430erow18_col1\" class=\"data row18 col1\" >6909</td>\n",
       "                        <td id=\"T_503b9aa2_9db8_11e9_8504_f44d3069430erow18_col2\" class=\"data row18 col2\" >2</td>\n",
       "                        <td id=\"T_503b9aa2_9db8_11e9_8504_f44d3069430erow18_col3\" class=\"data row18 col3\" >1</td>\n",
       "                        <td id=\"T_503b9aa2_9db8_11e9_8504_f44d3069430erow18_col4\" class=\"data row18 col4\" >0</td>\n",
       "                        <td id=\"T_503b9aa2_9db8_11e9_8504_f44d3069430erow18_col5\" class=\"data row18 col5\" >1</td>\n",
       "                        <td id=\"T_503b9aa2_9db8_11e9_8504_f44d3069430erow18_col6\" class=\"data row18 col6\" >2</td>\n",
       "                        <td id=\"T_503b9aa2_9db8_11e9_8504_f44d3069430erow18_col7\" class=\"data row18 col7\" >1</td>\n",
       "                        <td id=\"T_503b9aa2_9db8_11e9_8504_f44d3069430erow18_col8\" class=\"data row18 col8\" >3</td>\n",
       "            </tr>\n",
       "            <tr>\n",
       "                        <th id=\"T_503b9aa2_9db8_11e9_8504_f44d3069430elevel0_row19\" class=\"row_heading level0 row19\" >12</th>\n",
       "                        <td id=\"T_503b9aa2_9db8_11e9_8504_f44d3069430erow19_col0\" class=\"data row19 col0\" >Morelos</td>\n",
       "                        <td id=\"T_503b9aa2_9db8_11e9_8504_f44d3069430erow19_col1\" class=\"data row19 col1\" >6936</td>\n",
       "                        <td id=\"T_503b9aa2_9db8_11e9_8504_f44d3069430erow19_col2\" class=\"data row19 col2\" >3</td>\n",
       "                        <td id=\"T_503b9aa2_9db8_11e9_8504_f44d3069430erow19_col3\" class=\"data row19 col3\" >1</td>\n",
       "                        <td id=\"T_503b9aa2_9db8_11e9_8504_f44d3069430erow19_col4\" class=\"data row19 col4\" >0</td>\n",
       "                        <td id=\"T_503b9aa2_9db8_11e9_8504_f44d3069430erow19_col5\" class=\"data row19 col5\" >1</td>\n",
       "                        <td id=\"T_503b9aa2_9db8_11e9_8504_f44d3069430erow19_col6\" class=\"data row19 col6\" >2</td>\n",
       "                        <td id=\"T_503b9aa2_9db8_11e9_8504_f44d3069430erow19_col7\" class=\"data row19 col7\" >1</td>\n",
       "                        <td id=\"T_503b9aa2_9db8_11e9_8504_f44d3069430erow19_col8\" class=\"data row19 col8\" >3</td>\n",
       "            </tr>\n",
       "            <tr>\n",
       "                        <th id=\"T_503b9aa2_9db8_11e9_8504_f44d3069430elevel0_row20\" class=\"row_heading level0 row20\" >30</th>\n",
       "                        <td id=\"T_503b9aa2_9db8_11e9_8504_f44d3069430erow20_col0\" class=\"data row20 col0\" >Tamaulipas</td>\n",
       "                        <td id=\"T_503b9aa2_9db8_11e9_8504_f44d3069430erow20_col1\" class=\"data row20 col1\" >7508</td>\n",
       "                        <td id=\"T_503b9aa2_9db8_11e9_8504_f44d3069430erow20_col2\" class=\"data row20 col2\" >3</td>\n",
       "                        <td id=\"T_503b9aa2_9db8_11e9_8504_f44d3069430erow20_col3\" class=\"data row20 col3\" >1</td>\n",
       "                        <td id=\"T_503b9aa2_9db8_11e9_8504_f44d3069430erow20_col4\" class=\"data row20 col4\" >1</td>\n",
       "                        <td id=\"T_503b9aa2_9db8_11e9_8504_f44d3069430erow20_col5\" class=\"data row20 col5\" >1</td>\n",
       "                        <td id=\"T_503b9aa2_9db8_11e9_8504_f44d3069430erow20_col6\" class=\"data row20 col6\" >2</td>\n",
       "                        <td id=\"T_503b9aa2_9db8_11e9_8504_f44d3069430erow20_col7\" class=\"data row20 col7\" >1</td>\n",
       "                        <td id=\"T_503b9aa2_9db8_11e9_8504_f44d3069430erow20_col8\" class=\"data row20 col8\" >3</td>\n",
       "            </tr>\n",
       "            <tr>\n",
       "                        <th id=\"T_503b9aa2_9db8_11e9_8504_f44d3069430elevel0_row21\" class=\"row_heading level0 row21\" >13</th>\n",
       "                        <td id=\"T_503b9aa2_9db8_11e9_8504_f44d3069430erow21_col0\" class=\"data row21 col0\" >Yucatan</td>\n",
       "                        <td id=\"T_503b9aa2_9db8_11e9_8504_f44d3069430erow21_col1\" class=\"data row21 col1\" >7990</td>\n",
       "                        <td id=\"T_503b9aa2_9db8_11e9_8504_f44d3069430erow21_col2\" class=\"data row21 col2\" >3</td>\n",
       "                        <td id=\"T_503b9aa2_9db8_11e9_8504_f44d3069430erow21_col3\" class=\"data row21 col3\" >1</td>\n",
       "                        <td id=\"T_503b9aa2_9db8_11e9_8504_f44d3069430erow21_col4\" class=\"data row21 col4\" >1</td>\n",
       "                        <td id=\"T_503b9aa2_9db8_11e9_8504_f44d3069430erow21_col5\" class=\"data row21 col5\" >1</td>\n",
       "                        <td id=\"T_503b9aa2_9db8_11e9_8504_f44d3069430erow21_col6\" class=\"data row21 col6\" >2</td>\n",
       "                        <td id=\"T_503b9aa2_9db8_11e9_8504_f44d3069430erow21_col7\" class=\"data row21 col7\" >1</td>\n",
       "                        <td id=\"T_503b9aa2_9db8_11e9_8504_f44d3069430erow21_col8\" class=\"data row21 col8\" >3</td>\n",
       "            </tr>\n",
       "            <tr>\n",
       "                        <th id=\"T_503b9aa2_9db8_11e9_8504_f44d3069430elevel0_row22\" class=\"row_heading level0 row22\" >24</th>\n",
       "                        <td id=\"T_503b9aa2_9db8_11e9_8504_f44d3069430erow22_col0\" class=\"data row22 col0\" >Coahuila De Zaragoza</td>\n",
       "                        <td id=\"T_503b9aa2_9db8_11e9_8504_f44d3069430erow22_col1\" class=\"data row22 col1\" >8537</td>\n",
       "                        <td id=\"T_503b9aa2_9db8_11e9_8504_f44d3069430erow22_col2\" class=\"data row22 col2\" >3</td>\n",
       "                        <td id=\"T_503b9aa2_9db8_11e9_8504_f44d3069430erow22_col3\" class=\"data row22 col3\" >1</td>\n",
       "                        <td id=\"T_503b9aa2_9db8_11e9_8504_f44d3069430erow22_col4\" class=\"data row22 col4\" >1</td>\n",
       "                        <td id=\"T_503b9aa2_9db8_11e9_8504_f44d3069430erow22_col5\" class=\"data row22 col5\" >1</td>\n",
       "                        <td id=\"T_503b9aa2_9db8_11e9_8504_f44d3069430erow22_col6\" class=\"data row22 col6\" >2</td>\n",
       "                        <td id=\"T_503b9aa2_9db8_11e9_8504_f44d3069430erow22_col7\" class=\"data row22 col7\" >1</td>\n",
       "                        <td id=\"T_503b9aa2_9db8_11e9_8504_f44d3069430erow22_col8\" class=\"data row22 col8\" >3</td>\n",
       "            </tr>\n",
       "            <tr>\n",
       "                        <th id=\"T_503b9aa2_9db8_11e9_8504_f44d3069430elevel0_row23\" class=\"row_heading level0 row23\" >23</th>\n",
       "                        <td id=\"T_503b9aa2_9db8_11e9_8504_f44d3069430erow23_col0\" class=\"data row23 col0\" >Chihuahua</td>\n",
       "                        <td id=\"T_503b9aa2_9db8_11e9_8504_f44d3069430erow23_col1\" class=\"data row23 col1\" >8578</td>\n",
       "                        <td id=\"T_503b9aa2_9db8_11e9_8504_f44d3069430erow23_col2\" class=\"data row23 col2\" >3</td>\n",
       "                        <td id=\"T_503b9aa2_9db8_11e9_8504_f44d3069430erow23_col3\" class=\"data row23 col3\" >1</td>\n",
       "                        <td id=\"T_503b9aa2_9db8_11e9_8504_f44d3069430erow23_col4\" class=\"data row23 col4\" >1</td>\n",
       "                        <td id=\"T_503b9aa2_9db8_11e9_8504_f44d3069430erow23_col5\" class=\"data row23 col5\" >1</td>\n",
       "                        <td id=\"T_503b9aa2_9db8_11e9_8504_f44d3069430erow23_col6\" class=\"data row23 col6\" >2</td>\n",
       "                        <td id=\"T_503b9aa2_9db8_11e9_8504_f44d3069430erow23_col7\" class=\"data row23 col7\" >1</td>\n",
       "                        <td id=\"T_503b9aa2_9db8_11e9_8504_f44d3069430erow23_col8\" class=\"data row23 col8\" >3</td>\n",
       "            </tr>\n",
       "            <tr>\n",
       "                        <th id=\"T_503b9aa2_9db8_11e9_8504_f44d3069430elevel0_row24\" class=\"row_heading level0 row24\" >29</th>\n",
       "                        <td id=\"T_503b9aa2_9db8_11e9_8504_f44d3069430erow24_col0\" class=\"data row24 col0\" >Nuevo Leon</td>\n",
       "                        <td id=\"T_503b9aa2_9db8_11e9_8504_f44d3069430erow24_col1\" class=\"data row24 col1\" >9073</td>\n",
       "                        <td id=\"T_503b9aa2_9db8_11e9_8504_f44d3069430erow24_col2\" class=\"data row24 col2\" >3</td>\n",
       "                        <td id=\"T_503b9aa2_9db8_11e9_8504_f44d3069430erow24_col3\" class=\"data row24 col3\" >1</td>\n",
       "                        <td id=\"T_503b9aa2_9db8_11e9_8504_f44d3069430erow24_col4\" class=\"data row24 col4\" >1</td>\n",
       "                        <td id=\"T_503b9aa2_9db8_11e9_8504_f44d3069430erow24_col5\" class=\"data row24 col5\" >1</td>\n",
       "                        <td id=\"T_503b9aa2_9db8_11e9_8504_f44d3069430erow24_col6\" class=\"data row24 col6\" >2</td>\n",
       "                        <td id=\"T_503b9aa2_9db8_11e9_8504_f44d3069430erow24_col7\" class=\"data row24 col7\" >1</td>\n",
       "                        <td id=\"T_503b9aa2_9db8_11e9_8504_f44d3069430erow24_col8\" class=\"data row24 col8\" >3</td>\n",
       "            </tr>\n",
       "            <tr>\n",
       "                        <th id=\"T_503b9aa2_9db8_11e9_8504_f44d3069430elevel0_row25\" class=\"row_heading level0 row25\" >1</th>\n",
       "                        <td id=\"T_503b9aa2_9db8_11e9_8504_f44d3069430erow25_col0\" class=\"data row25 col0\" >Baja California Sur</td>\n",
       "                        <td id=\"T_503b9aa2_9db8_11e9_8504_f44d3069430erow25_col1\" class=\"data row25 col1\" >9573</td>\n",
       "                        <td id=\"T_503b9aa2_9db8_11e9_8504_f44d3069430erow25_col2\" class=\"data row25 col2\" >4</td>\n",
       "                        <td id=\"T_503b9aa2_9db8_11e9_8504_f44d3069430erow25_col3\" class=\"data row25 col3\" >1</td>\n",
       "                        <td id=\"T_503b9aa2_9db8_11e9_8504_f44d3069430erow25_col4\" class=\"data row25 col4\" >1</td>\n",
       "                        <td id=\"T_503b9aa2_9db8_11e9_8504_f44d3069430erow25_col5\" class=\"data row25 col5\" >1</td>\n",
       "                        <td id=\"T_503b9aa2_9db8_11e9_8504_f44d3069430erow25_col6\" class=\"data row25 col6\" >2</td>\n",
       "                        <td id=\"T_503b9aa2_9db8_11e9_8504_f44d3069430erow25_col7\" class=\"data row25 col7\" >2</td>\n",
       "                        <td id=\"T_503b9aa2_9db8_11e9_8504_f44d3069430erow25_col8\" class=\"data row25 col8\" >3</td>\n",
       "            </tr>\n",
       "            <tr>\n",
       "                        <th id=\"T_503b9aa2_9db8_11e9_8504_f44d3069430elevel0_row26\" class=\"row_heading level0 row26\" >4</th>\n",
       "                        <td id=\"T_503b9aa2_9db8_11e9_8504_f44d3069430erow26_col0\" class=\"data row26 col0\" >Aguascalientes</td>\n",
       "                        <td id=\"T_503b9aa2_9db8_11e9_8504_f44d3069430erow26_col1\" class=\"data row26 col1\" >10384</td>\n",
       "                        <td id=\"T_503b9aa2_9db8_11e9_8504_f44d3069430erow26_col2\" class=\"data row26 col2\" >4</td>\n",
       "                        <td id=\"T_503b9aa2_9db8_11e9_8504_f44d3069430erow26_col3\" class=\"data row26 col3\" >2</td>\n",
       "                        <td id=\"T_503b9aa2_9db8_11e9_8504_f44d3069430erow26_col4\" class=\"data row26 col4\" >1</td>\n",
       "                        <td id=\"T_503b9aa2_9db8_11e9_8504_f44d3069430erow26_col5\" class=\"data row26 col5\" >1</td>\n",
       "                        <td id=\"T_503b9aa2_9db8_11e9_8504_f44d3069430erow26_col6\" class=\"data row26 col6\" >2</td>\n",
       "                        <td id=\"T_503b9aa2_9db8_11e9_8504_f44d3069430erow26_col7\" class=\"data row26 col7\" >2</td>\n",
       "                        <td id=\"T_503b9aa2_9db8_11e9_8504_f44d3069430erow26_col8\" class=\"data row26 col8\" >3</td>\n",
       "            </tr>\n",
       "            <tr>\n",
       "                        <th id=\"T_503b9aa2_9db8_11e9_8504_f44d3069430elevel0_row27\" class=\"row_heading level0 row27\" >6</th>\n",
       "                        <td id=\"T_503b9aa2_9db8_11e9_8504_f44d3069430erow27_col0\" class=\"data row27 col0\" >Queretaro de Arteaga</td>\n",
       "                        <td id=\"T_503b9aa2_9db8_11e9_8504_f44d3069430erow27_col1\" class=\"data row27 col1\" >11016</td>\n",
       "                        <td id=\"T_503b9aa2_9db8_11e9_8504_f44d3069430erow27_col2\" class=\"data row27 col2\" >4</td>\n",
       "                        <td id=\"T_503b9aa2_9db8_11e9_8504_f44d3069430erow27_col3\" class=\"data row27 col3\" >2</td>\n",
       "                        <td id=\"T_503b9aa2_9db8_11e9_8504_f44d3069430erow27_col4\" class=\"data row27 col4\" >1</td>\n",
       "                        <td id=\"T_503b9aa2_9db8_11e9_8504_f44d3069430erow27_col5\" class=\"data row27 col5\" >1</td>\n",
       "                        <td id=\"T_503b9aa2_9db8_11e9_8504_f44d3069430erow27_col6\" class=\"data row27 col6\" >2</td>\n",
       "                        <td id=\"T_503b9aa2_9db8_11e9_8504_f44d3069430erow27_col7\" class=\"data row27 col7\" >2</td>\n",
       "                        <td id=\"T_503b9aa2_9db8_11e9_8504_f44d3069430erow27_col8\" class=\"data row27 col8\" >3</td>\n",
       "            </tr>\n",
       "            <tr>\n",
       "                        <th id=\"T_503b9aa2_9db8_11e9_8504_f44d3069430elevel0_row28\" class=\"row_heading level0 row28\" >26</th>\n",
       "                        <td id=\"T_503b9aa2_9db8_11e9_8504_f44d3069430erow28_col0\" class=\"data row28 col0\" >Durango</td>\n",
       "                        <td id=\"T_503b9aa2_9db8_11e9_8504_f44d3069430erow28_col1\" class=\"data row28 col1\" >12132</td>\n",
       "                        <td id=\"T_503b9aa2_9db8_11e9_8504_f44d3069430erow28_col2\" class=\"data row28 col2\" >4</td>\n",
       "                        <td id=\"T_503b9aa2_9db8_11e9_8504_f44d3069430erow28_col3\" class=\"data row28 col3\" >2</td>\n",
       "                        <td id=\"T_503b9aa2_9db8_11e9_8504_f44d3069430erow28_col4\" class=\"data row28 col4\" >1</td>\n",
       "                        <td id=\"T_503b9aa2_9db8_11e9_8504_f44d3069430erow28_col5\" class=\"data row28 col5\" >2</td>\n",
       "                        <td id=\"T_503b9aa2_9db8_11e9_8504_f44d3069430erow28_col6\" class=\"data row28 col6\" >2</td>\n",
       "                        <td id=\"T_503b9aa2_9db8_11e9_8504_f44d3069430erow28_col7\" class=\"data row28 col7\" >2</td>\n",
       "                        <td id=\"T_503b9aa2_9db8_11e9_8504_f44d3069430erow28_col8\" class=\"data row28 col8\" >3</td>\n",
       "            </tr>\n",
       "            <tr>\n",
       "                        <th id=\"T_503b9aa2_9db8_11e9_8504_f44d3069430elevel0_row29\" class=\"row_heading level0 row29\" >10</th>\n",
       "                        <td id=\"T_503b9aa2_9db8_11e9_8504_f44d3069430erow29_col0\" class=\"data row29 col0\" >Distrito Federal</td>\n",
       "                        <td id=\"T_503b9aa2_9db8_11e9_8504_f44d3069430erow29_col1\" class=\"data row29 col1\" >17816</td>\n",
       "                        <td id=\"T_503b9aa2_9db8_11e9_8504_f44d3069430erow29_col2\" class=\"data row29 col2\" >4</td>\n",
       "                        <td id=\"T_503b9aa2_9db8_11e9_8504_f44d3069430erow29_col3\" class=\"data row29 col3\" >3</td>\n",
       "                        <td id=\"T_503b9aa2_9db8_11e9_8504_f44d3069430erow29_col4\" class=\"data row29 col4\" >2</td>\n",
       "                        <td id=\"T_503b9aa2_9db8_11e9_8504_f44d3069430erow29_col5\" class=\"data row29 col5\" >3</td>\n",
       "                        <td id=\"T_503b9aa2_9db8_11e9_8504_f44d3069430erow29_col6\" class=\"data row29 col6\" >4</td>\n",
       "                        <td id=\"T_503b9aa2_9db8_11e9_8504_f44d3069430erow29_col7\" class=\"data row29 col7\" >3</td>\n",
       "                        <td id=\"T_503b9aa2_9db8_11e9_8504_f44d3069430erow29_col8\" class=\"data row29 col8\" >4</td>\n",
       "            </tr>\n",
       "            <tr>\n",
       "                        <th id=\"T_503b9aa2_9db8_11e9_8504_f44d3069430elevel0_row30\" class=\"row_heading level0 row30\" >16</th>\n",
       "                        <td id=\"T_503b9aa2_9db8_11e9_8504_f44d3069430erow30_col0\" class=\"data row30 col0\" >Quintana Roo</td>\n",
       "                        <td id=\"T_503b9aa2_9db8_11e9_8504_f44d3069430erow30_col1\" class=\"data row30 col1\" >21965</td>\n",
       "                        <td id=\"T_503b9aa2_9db8_11e9_8504_f44d3069430erow30_col2\" class=\"data row30 col2\" >4</td>\n",
       "                        <td id=\"T_503b9aa2_9db8_11e9_8504_f44d3069430erow30_col3\" class=\"data row30 col3\" >4</td>\n",
       "                        <td id=\"T_503b9aa2_9db8_11e9_8504_f44d3069430erow30_col4\" class=\"data row30 col4\" >3</td>\n",
       "                        <td id=\"T_503b9aa2_9db8_11e9_8504_f44d3069430erow30_col5\" class=\"data row30 col5\" >4</td>\n",
       "                        <td id=\"T_503b9aa2_9db8_11e9_8504_f44d3069430erow30_col6\" class=\"data row30 col6\" >4</td>\n",
       "                        <td id=\"T_503b9aa2_9db8_11e9_8504_f44d3069430erow30_col7\" class=\"data row30 col7\" >4</td>\n",
       "                        <td id=\"T_503b9aa2_9db8_11e9_8504_f44d3069430erow30_col8\" class=\"data row30 col8\" >4</td>\n",
       "            </tr>\n",
       "            <tr>\n",
       "                        <th id=\"T_503b9aa2_9db8_11e9_8504_f44d3069430elevel0_row31\" class=\"row_heading level0 row31\" >0</th>\n",
       "                        <td id=\"T_503b9aa2_9db8_11e9_8504_f44d3069430erow31_col0\" class=\"data row31 col0\" >Baja California Norte</td>\n",
       "                        <td id=\"T_503b9aa2_9db8_11e9_8504_f44d3069430erow31_col1\" class=\"data row31 col1\" >22361</td>\n",
       "                        <td id=\"T_503b9aa2_9db8_11e9_8504_f44d3069430erow31_col2\" class=\"data row31 col2\" >4</td>\n",
       "                        <td id=\"T_503b9aa2_9db8_11e9_8504_f44d3069430erow31_col3\" class=\"data row31 col3\" >4</td>\n",
       "                        <td id=\"T_503b9aa2_9db8_11e9_8504_f44d3069430erow31_col4\" class=\"data row31 col4\" >4</td>\n",
       "                        <td id=\"T_503b9aa2_9db8_11e9_8504_f44d3069430erow31_col5\" class=\"data row31 col5\" >4</td>\n",
       "                        <td id=\"T_503b9aa2_9db8_11e9_8504_f44d3069430erow31_col6\" class=\"data row31 col6\" >4</td>\n",
       "                        <td id=\"T_503b9aa2_9db8_11e9_8504_f44d3069430erow31_col7\" class=\"data row31 col7\" >4</td>\n",
       "                        <td id=\"T_503b9aa2_9db8_11e9_8504_f44d3069430erow31_col8\" class=\"data row31 col8\" >4</td>\n",
       "            </tr>\n",
       "    </tbody></table>"
      ],
      "text/plain": [
       "<pandas.io.formats.style.Styler at 0x7fc1f9624518>"
      ]
     },
     "execution_count": 23,
     "metadata": {},
     "output_type": "execute_result"
    }
   ],
   "source": [
    "t = mxs[['NAME', 'PCGDP1940', 'q540', 'ei540', 'ht40', 'mb540', 'msd40', 'fj540', 'jc540']]\n",
    "t.style.applymap(highlight_values)"
   ]
  },
  {
   "cell_type": "markdown",
   "metadata": {},
   "source": [
    "Inspection of this table reveals a number of interesting results. First, the\n",
    "only Mexican state that is treated consistantly across the k=5 classifiers is\n",
    "Baja California Norte which is placed in the highest class by all classifiers.\n",
    "Second, the mean-standard deviation classifier has an empty first class due to\n",
    "the inadmissible upper bound and the overconcentration of values in the central\n",
    "class (2).\n",
    "\n",
    "Finally, we can consider a meso-level view of the clasification\n",
    "results by comparing the number of values assigned to each class across the\n",
    "different classifiers:"
   ]
  },
  {
   "cell_type": "code",
   "execution_count": 24,
   "metadata": {},
   "outputs": [
    {
     "data": {
      "text/html": [
       "<div>\n",
       "<style scoped>\n",
       "    .dataframe tbody tr th:only-of-type {\n",
       "        vertical-align: middle;\n",
       "    }\n",
       "\n",
       "    .dataframe tbody tr th {\n",
       "        vertical-align: top;\n",
       "    }\n",
       "\n",
       "    .dataframe thead th {\n",
       "        text-align: right;\n",
       "    }\n",
       "</style>\n",
       "<table border=\"1\" class=\"dataframe\">\n",
       "  <thead>\n",
       "    <tr style=\"text-align: right;\">\n",
       "      <th></th>\n",
       "      <th>Quantiles</th>\n",
       "      <th>Equal Interval</th>\n",
       "      <th>HeadTailBreaks</th>\n",
       "      <th>MaximumBreaks</th>\n",
       "      <th>StdMean</th>\n",
       "      <th>FisherJenks</th>\n",
       "      <th>JenksCaspall</th>\n",
       "    </tr>\n",
       "  </thead>\n",
       "  <tbody>\n",
       "    <tr>\n",
       "      <th>Class-0</th>\n",
       "      <td>7</td>\n",
       "      <td>17</td>\n",
       "      <td>20</td>\n",
       "      <td>17</td>\n",
       "      <td>0</td>\n",
       "      <td>17</td>\n",
       "      <td>4</td>\n",
       "    </tr>\n",
       "    <tr>\n",
       "      <th>Class-1</th>\n",
       "      <td>6</td>\n",
       "      <td>9</td>\n",
       "      <td>9</td>\n",
       "      <td>11</td>\n",
       "      <td>1</td>\n",
       "      <td>8</td>\n",
       "      <td>9</td>\n",
       "    </tr>\n",
       "    <tr>\n",
       "      <th>Class-2</th>\n",
       "      <td>6</td>\n",
       "      <td>3</td>\n",
       "      <td>1</td>\n",
       "      <td>1</td>\n",
       "      <td>28</td>\n",
       "      <td>4</td>\n",
       "      <td>5</td>\n",
       "    </tr>\n",
       "    <tr>\n",
       "      <th>Class-3</th>\n",
       "      <td>6</td>\n",
       "      <td>1</td>\n",
       "      <td>1</td>\n",
       "      <td>1</td>\n",
       "      <td>0</td>\n",
       "      <td>1</td>\n",
       "      <td>11</td>\n",
       "    </tr>\n",
       "    <tr>\n",
       "      <th>Class-4</th>\n",
       "      <td>7</td>\n",
       "      <td>2</td>\n",
       "      <td>1</td>\n",
       "      <td>2</td>\n",
       "      <td>3</td>\n",
       "      <td>2</td>\n",
       "      <td>3</td>\n",
       "    </tr>\n",
       "  </tbody>\n",
       "</table>\n",
       "</div>"
      ],
      "text/plain": [
       "         Quantiles  Equal Interval  HeadTailBreaks  MaximumBreaks  StdMean  \\\n",
       "Class-0          7              17              20             17        0   \n",
       "Class-1          6               9               9             11        1   \n",
       "Class-2          6               3               1              1       28   \n",
       "Class-3          6               1               1              1        0   \n",
       "Class-4          7               2               1              2        3   \n",
       "\n",
       "         FisherJenks  JenksCaspall  \n",
       "Class-0           17             4  \n",
       "Class-1            8             9  \n",
       "Class-2            4             5  \n",
       "Class-3            1            11  \n",
       "Class-4            2             3  "
      ]
     },
     "execution_count": 24,
     "metadata": {},
     "output_type": "execute_result"
    }
   ],
   "source": [
    "pandas.DataFrame({c.name: c.counts for c in class5},\n",
    "                 index=['Class-{}'.format(i) for i in range(5)])"
   ]
  },
  {
   "cell_type": "markdown",
   "metadata": {},
   "source": [
    "Doing so highlights the similarities between Fisher Jenks and equal intervals as\n",
    "the distribution counts are very similar as the two approaches agree on all 17\n",
    "states assigned to the first class. Indeed, the only observation that\n",
    "distinguishes the two classifiers is the treatment of Baja California Sur which\n",
    "is kept in class 1 in equal intervals, but assigned to class 2 by Fisher Jenks.\n",
    "\n",
    "### Color\n",
    "\n",
    "Having considered the evaluation of the statisitcal distribution of\n",
    "the attribute values and the alternative classification approaches, the next\n",
    "step is to select the symbolization and color scheme. Together with the choice of classifier, these will determine the overall\n",
    "effectiveness of the choropleth map in representing the spatial\n",
    "distribution of the attribute values.\n",
    "\n",
    "Let us start by refreshing the `mx` object and exploring the base polygons for the Mexican states:"
   ]
  },
  {
   "cell_type": "code",
   "execution_count": 25,
   "metadata": {},
   "outputs": [
    {
     "data": {
      "image/png": "[encoded data removed]",
      "text/plain": [
       "<Figure size 432x288 with 1 Axes>"
      ]
     },
     "metadata": {
      "needs_background": "light"
     },
     "output_type": "display_data"
    }
   ],
   "source": [
    "mx = geopandas.read_file(\"../data/mexicojoin.shp\")\n",
    "mx.plot(color='blue', edgecolor='y');"
   ]
  },
  {
   "cell_type": "markdown",
   "metadata": {},
   "source": [
    "Prior to examining the attribute values it is important to note that the\n",
    "spatial units for these states are far from homogenous in their shapes and\n",
    "sizes. This can have major impacts on our brain's pattern recognition capabilities\n",
    "as we tend to be drawn to the larger polygons. Yet, when we considered the\n",
    "statistical distribution above, each observation was given equal weight. Thus\n",
    "the spatial distribution becomes more complicated to evaluate from a visual and\n",
    "statistical perspective.\n",
    "\n",
    "With this qualification in mind, we will explore the construction of choropleth\n",
    "maps using PySAL and the helper method `choropleth`:"
   ]
  },
  {
   "cell_type": "code",
   "execution_count": 26,
   "metadata": {},
   "outputs": [
    {
     "data": {
      "text/plain": [
       "<matplotlib.axes._subplots.AxesSubplot at 0x7fc1f88ef518>"
      ]
     },
     "execution_count": 26,
     "metadata": {},
     "output_type": "execute_result"
    },
    {
     "data": {
      "image/png": "[encoded data removed]",
      "text/plain": [
       "<Figure size 432x288 with 1 Axes>"
      ]
     },
     "metadata": {
      "needs_background": "light"
     },
     "output_type": "display_data"
    }
   ],
   "source": [
    "choropleth(mx, 'PCGDP1940', cmap='BuGn')"
   ]
  },
  {
   "cell_type": "code",
   "execution_count": 27,
   "metadata": {},
   "outputs": [
    {
     "data": {
      "text/plain": [
       "                  Quantiles                  \n",
       " \n",
       "  Lower              Upper              Count\n",
       "=============================================\n",
       "            x[i] <=  3576.200               7\n",
       " 3576.200 < x[i] <=  4582.800               6\n",
       " 4582.800 < x[i] <=  6925.200               6\n",
       " 6925.200 < x[i] <=  9473.000               6\n",
       " 9473.000 < x[i] <= 22361.000               7"
      ]
     },
     "execution_count": 27,
     "metadata": {},
     "output_type": "execute_result"
    }
   ],
   "source": [
    "PCGDP1940 = mx.PCGDP1940\n",
    "q5 = mapclassify.Quantiles(PCGDP1940)\n",
    "q5"
   ]
  },
  {
   "cell_type": "markdown",
   "metadata": {},
   "source": [
    "The resulting classifier object has a plot method takes a geopandas dataframe as an argument:"
   ]
  },
  {
   "cell_type": "code",
   "execution_count": 28,
   "metadata": {},
   "outputs": [
    {
     "data": {
      "text/plain": [
       "(<Figure size 432x288 with 1 Axes>,\n",
       " <matplotlib.axes._subplots.AxesSubplot at 0x7fc1f889d1d0>)"
      ]
     },
     "execution_count": 28,
     "metadata": {},
     "output_type": "execute_result"
    },
    {
     "data": {
      "image/png": "[encoded data removed]",
      "text/plain": [
       "<Figure size 432x288 with 1 Axes>"
      ]
     },
     "metadata": {
      "needs_background": "light"
     },
     "output_type": "display_data"
    }
   ],
   "source": [
    "q5.plot(mx)"
   ]
  },
  {
   "cell_type": "markdown",
   "metadata": {},
   "source": [
    "The default uses a `YlGnBu` color map from matplotlib. We can override the color map, as well as drop the axes, as follows:\n"
   ]
  },
  {
   "cell_type": "code",
   "execution_count": 29,
   "metadata": {},
   "outputs": [
    {
     "data": {
      "image/png": "[encoded data removed]",
      "text/plain": [
       "<Figure size 432x288 with 1 Axes>"
      ]
     },
     "metadata": {
      "needs_background": "light"
     },
     "output_type": "display_data"
    }
   ],
   "source": [
    "_ = q5.plot(mx, cmap='Blues', axis_on=False, legend=True,\n",
    "           legend_kwds={'loc': 'upper right'}, legend_decimal=1)"
   ]
  },
  {
   "cell_type": "code",
   "execution_count": 30,
   "metadata": {},
   "outputs": [
    {
     "data": {
      "image/png": "[encoded data removed]",
      "text/plain": [
       "<Figure size 432x288 with 1 Axes>"
      ]
     },
     "metadata": {
      "needs_background": "light"
     },
     "output_type": "display_data"
    }
   ],
   "source": [
    "_ = q5.plot(mx, cmap='Blues', axis_on=False, legend=True,\n",
    "           legend_kwds={'loc': 'upper right'}, legend_decimal=1)"
   ]
  },
  {
   "cell_type": "code",
   "execution_count": 31,
   "metadata": {},
   "outputs": [
    {
     "data": {
      "image/png": "[encoded data removed]",
      "text/plain": [
       "<Figure size 432x288 with 1 Axes>"
      ]
     },
     "metadata": {
      "needs_background": "light"
     },
     "output_type": "display_data"
    }
   ],
   "source": [
    "_ = q5.plot(mx, cmap='Blues', axis_on=False, legend=True,\n",
    "           legend_kwds={'loc': 'upper right'}, legend_labels = list(range(5)))"
   ]
  },
  {
   "cell_type": "code",
   "execution_count": null,
   "metadata": {},
   "outputs": [],
   "source": [
    "_ = q5.plot(mx, cmap='Blues', axis_on=False, legend=True,\n",
    "           legend_kwds={'loc': 'upper right'}, legend_decimal=0)"
   ]
  },
  {
   "cell_type": "code",
   "execution_count": null,
   "metadata": {},
   "outputs": [],
   "source": [
    "_ = q5.plot(mx, cmap='Blues', axis_on=False)"
   ]
  },
  {
   "cell_type": "code",
   "execution_count": null,
   "metadata": {},
   "outputs": [],
   "source": [
    "choropleth(mx, 'PCGDP1940', cmap='Blues', k=4)"
   ]
  },
  {
   "cell_type": "markdown",
   "metadata": {},
   "source": [
    "We will continue to use the `Blues`\n",
    "colormap in what follows in order to examine the spatial distribution revealed by\n",
    "each of the k=5 classifiers:\n",
    "\n",
    "- Equal Interval\n",
    "- Quantiles\n",
    "- Mean-Standard deviation\n",
    "- Maximum breaks\n",
    "- Box-Plot\n",
    "- Head Tail\n",
    "- Jenks Caspall\n",
    "- Fisher Jenks\n",
    "\n",
    "**DA-B NOTE**: it would *really* nice to have a `mapclassify.plot` method to go from created classifications to choropleths in this context."
   ]
  },
  {
   "cell_type": "code",
   "execution_count": 39,
   "metadata": {},
   "outputs": [
    {
     "data": {
      "text/plain": [
       "                Equal Interval                \n",
       " \n",
       "  Lower              Upper               Count\n",
       "==============================================\n",
       "            x[i] <=  5985.800               17\n",
       " 5985.800 < x[i] <= 10079.600                9\n",
       "10079.600 < x[i] <= 14173.400                3\n",
       "14173.400 < x[i] <= 18267.200                1\n",
       "18267.200 < x[i] <= 22361.000                2"
      ]
     },
     "execution_count": 39,
     "metadata": {},
     "output_type": "execute_result"
    }
   ],
   "source": [
    "ea5 = mapclassify.EqualInterval(PCGDP1940, k=5)\n",
    "ea5"
   ]
  },
  {
   "cell_type": "code",
   "execution_count": 41,
   "metadata": {},
   "outputs": [
    {
     "data": {
      "image/png": "[encoded data removed]",
      "text/plain": [
       "<Figure size 432x288 with 1 Axes>"
      ]
     },
     "metadata": {
      "needs_background": "light"
     },
     "output_type": "display_data"
    }
   ],
   "source": [
    "_ = ea5.plot(mx, cmap='Blues', axis_on=False, legend=True,\n",
    "           legend_kwds={'loc': 'upper right'}, legend_decimal=1,\n",
    "            border_color='gray')"
   ]
  },
  {
   "cell_type": "code",
   "execution_count": null,
   "metadata": {},
   "outputs": [],
   "source": [
    "choropleth(mx, 'PCGDP1940', cmap='Blues',\n",
    "           scheme='equal_interval', k=5)"
   ]
  },
  {
   "cell_type": "code",
   "execution_count": null,
   "metadata": {},
   "outputs": [],
   "source": [
    "#choropleth(mx, 'PCGDP1940', cmap='Blues',\n",
    "#           scheme='Std_Mean', k=5)"
   ]
  },
  {
   "cell_type": "code",
   "execution_count": null,
   "metadata": {},
   "outputs": [],
   "source": [
    "choropleth(mx, 'PCGDP1940', cmap='Blues',\n",
    "           scheme='maximum_breaks', k=5)"
   ]
  },
  {
   "cell_type": "code",
   "execution_count": null,
   "metadata": {},
   "outputs": [],
   "source": [
    "#choropleth(mx, 'PCGDP1940', cmap='Blues',\n",
    "#           scheme='Box_Plot')"
   ]
  },
  {
   "cell_type": "code",
   "execution_count": null,
   "metadata": {},
   "outputs": [],
   "source": [
    "#choropleth(mx, 'PCGDP1940', cmap='Blues', \n",
    "#           scheme='headtail_breaks')"
   ]
  },
  {
   "cell_type": "code",
   "execution_count": null,
   "metadata": {},
   "outputs": [],
   "source": [
    "numpy.random.seed(12345)\n",
    "#choropleth(mx, 'PCGDP1940', cmap='Blues',\n",
    "#           scheme='jenks_caspall', k=5)"
   ]
  },
  {
   "cell_type": "code",
   "execution_count": null,
   "metadata": {},
   "outputs": [],
   "source": [
    "numpy.random.seed(12345)\n",
    "choropleth(mx, 'PCGDP1940', cmap='Blues', \n",
    "           scheme='fisher_jenks', k=5)"
   ]
  },
  {
   "cell_type": "markdown",
   "metadata": {},
   "source": [
    "We also note that geopandas can be used to do the plotting here, and we add some customization to the legend to report the upper bounds of each class:"
   ]
  },
  {
   "cell_type": "code",
   "execution_count": null,
   "metadata": {},
   "outputs": [],
   "source": [
    "### Fill in with example once `geopandas` is back in sync with PySAL 2.0"
   ]
  },
  {
   "cell_type": "markdown",
   "metadata": {},
   "source": [
    "### Diverging Attributes\n",
    "\n",
    "A slightly different type of attribute is the so-called \"diverging\" values attribute. This is\n",
    "useful when one wishes to place equal emphasis on mid-range critical values as\n",
    "well as extremes at both ends of the distribution. Light colors are used to\n",
    "emphasize the mid-range class while dark colors with contrasting hues are used\n",
    "to distinguish the low and high extremes.\n",
    "\n",
    "To illustrate this for the Mexican\n",
    "income data we can derive a new variable which measures the change in a state's\n",
    "rank in the income distribution between 1940 to 2000:"
   ]
  },
  {
   "cell_type": "code",
   "execution_count": null,
   "metadata": {},
   "outputs": [],
   "source": [
    "rnk = mx.rank(ascending=False) # ascending ranks 1=high, n=lowest\n",
    "rnk['NAME']=mx['NAME']\n",
    "delta_rnk = rnk.PCGDP1940 - rnk.PCGDP2000\n",
    "delta_rnk\n",
    "cls = numpy.digitize(delta_rnk, [-5, 0, 5, 20])\n",
    "cls"
   ]
  },
  {
   "cell_type": "markdown",
   "metadata": {},
   "source": [
    "Here we have created four classes for the rank changes: [-inf, -5), [-5, 0), [0,\n",
    "5), [5, 20]. Note that these are descending ranks, so the wealthiest state in\n",
    "any period has a rank of 1 and therefore when considering the change in ranks, a\n",
    "negative change reflects moving down the income distribution."
   ]
  },
  {
   "cell_type": "code",
   "execution_count": null,
   "metadata": {},
   "outputs": [],
   "source": [
    "choropleth(mx.assign(rkd=cls), 'rkd', cmap='RdYlBu',\n",
    "           scheme='equal_interval', k=4)"
   ]
  },
  {
   "cell_type": "markdown",
   "metadata": {},
   "source": [
    "Here the red (blue) hues are states that have moved downwards (upwards) in the\n",
    "income distribution, with the darker hue representing a larger movement."
   ]
  },
  {
   "cell_type": "markdown",
   "metadata": {},
   "source": [
    "## Qualitative Attributes\n",
    "\n",
    "The Mexico data set also has several variables that\n",
    "are on a nominal measurement scale. One of these is a region definition variable\n",
    "that groups individual states in contiguous clusters of similar characteristics:"
   ]
  },
  {
   "cell_type": "code",
   "execution_count": 42,
   "metadata": {},
   "outputs": [
    {
     "data": {
      "text/plain": [
       "0    1.0\n",
       "1    2.0\n",
       "2    2.0\n",
       "3    3.0\n",
       "4    2.0\n",
       "Name: HANSON98, dtype: float64"
      ]
     },
     "execution_count": 42,
     "metadata": {},
     "output_type": "execute_result"
    }
   ],
   "source": [
    "mx['HANSON98'].head()"
   ]
  },
  {
   "cell_type": "markdown",
   "metadata": {},
   "source": [
    "This regionalization scheme partions Mexico into 5 regions. A naive (and\n",
    "incorrect) way to display this would be to treat the region variable as\n",
    "sequential and use a `UserDefined` classifier to display the regions:"
   ]
  },
  {
   "cell_type": "code",
   "execution_count": 59,
   "metadata": {},
   "outputs": [
    {
     "data": {
      "text/plain": [
       "             UserDefined              \n",
       " \n",
       "Lower          Upper             Count\n",
       "======================================\n",
       "        x[i] <= 1.000                6\n",
       "1.000 < x[i] <= 2.000                7\n",
       "2.000 < x[i] <= 3.000               10\n",
       "3.000 < x[i] <= 4.000                2\n",
       "4.000 < x[i] <= 5.000                7"
      ]
     },
     "execution_count": 59,
     "metadata": {},
     "output_type": "execute_result"
    }
   ],
   "source": [
    "import numpy as np\n",
    "h5 = mapclassify.UserDefined(mx['HANSON98'], bins=np.arange(1,6).tolist())\n",
    "h5"
   ]
  },
  {
   "cell_type": "code",
   "execution_count": 60,
   "metadata": {},
   "outputs": [
    {
     "data": {
      "image/png": "[encoded data removed]",
      "text/plain": [
       "<Figure size 432x288 with 1 Axes>"
      ]
     },
     "metadata": {
      "needs_background": "light"
     },
     "output_type": "display_data"
    }
   ],
   "source": [
    "_ = h5.plot(mx, cmap='Blues', axis_on=False, legend=True,\n",
    "           legend_kwds={'loc': 'upper right'}, legend_decimal=0,\n",
    "            border_color='gray')"
   ]
  },
  {
   "cell_type": "markdown",
   "metadata": {},
   "source": [
    "This is not correct because the region variable is not on an interval scale, so\n",
    "the differences between the values have no quantitative significance but rather\n",
    "the values simply indicate region membership. However, the choropleth above gives\n",
    "a clear visual cue that regions in the south have larger values\n",
    "than those in the north, as the color map implies an intensity gradient.\n",
    "\n",
    "A more appropriate visualization\n",
    "is to use a \"qualitative\" color palette:"
   ]
  },
  {
   "cell_type": "code",
   "execution_count": 61,
   "metadata": {},
   "outputs": [
    {
     "data": {
      "image/png": "[encoded data removed]",
      "text/plain": [
       "<Figure size 432x288 with 1 Axes>"
      ]
     },
     "metadata": {
      "needs_background": "light"
     },
     "output_type": "display_data"
    }
   ],
   "source": [
    "_ = h5.plot(mx, cmap='Pastel1', axis_on=False, legend=True,\n",
    "           legend_kwds={'loc': 'upper right'}, legend_decimal=0,\n",
    "            border_color='gray')"
   ]
  },
  {
   "cell_type": "markdown",
   "metadata": {},
   "source": [
    "## Conclusion\n",
    "\n",
    "In this chapter we have considered the construction of choropleth maps for\n",
    "spatial data visualization. The key issues of the choice of classification\n",
    "scheme, variable measurement scale, spatial configuration and color palettes\n",
    "were illustrated using PySAL's map classification module together with other\n",
    "related packages in the PyData stack.\n",
    "\n",
    "Choropleth maps are a central tool in the geographic data science arsenal as\n",
    "they provide powerful visualizations of the spatial distribution of attribute\n",
    "values. We have only touched on the basic concepts in this chapter, as there is\n",
    "much more that can be said about cartographic theory and the design of effective\n",
    "choropleth maps. Readers interested in pursuing this literature are encouraged\n",
    "to see the references cited.\n",
    "\n",
    "At the same time, given the philosophy underlying PySAL the methods we cover\n",
    "here are sufficient for exploratory data analysis where the rapid and flexible\n",
    "generation of views is critical to the work flow. Once the analysis is complete,\n",
    "and the final presentation quality maps are to be generated, there are excellent\n",
    "packages in the data stack that the user can turn to.\n",
    "\n",
    "## Questions\n",
    "\n",
    "1. A variable such as population density measured for census tracts in a metropolitan area can display a high degree of skewness. What is an appropriate choice for a choropleth classification for such a variable?\n",
    "2. Provide two solutions to the problem of ties when applying quantile classification to the following series: $y=[2,2,2,2,2,2,4,7,8,9,20,21]$ and $k=4$. Discuss the merits of each approach.\n",
    "3. Which classifiers are appropriate for data that displays a high degree of multi-modality in its statistical distribution?\n",
    "4. Contrast and compare classed choropleth maps with class-less choropleth maps? What are the strengths and limitations of each type of visualization for spatial data?\n",
    "5. In what ways do choropleth classifiers treat intra-class and inter-class heterogeneity differently? What are the implications of these choices?\n",
    "6. To what extent do most commonly employed choropleth classification methods take the geographical distribution of the variable into consideration? Can you think of ways to incorporate the spatial features of a variable into a classification?\n",
    "7. Discuss the similarities between  the choice of the number of classes in choropleth mapping, on the one hand, and the determination of the number of clusters in a data set on the other. What aspects of choropleth mapping differentiate the former from the latter?\n",
    "8. The Fisher-Jenks classifier will always dominate other k-classifiers for a given data set, with respect to statistical fit. Given this, why might one decide on choosing a different k-classifier for a particular data set?"
   ]
  },
  {
   "cell_type": "markdown",
   "metadata": {},
   "source": [
    "## References\n",
    "\n",
    "Duque, J.C., L. Anselin, and S.J. Rey. (2012) \"The max-p regions problem.\" *Journal of Regional Science*, 52:397-419.\n",
    "\n",
    "Jenks, G. F., & Caspall, F. C. (1971). Error on choroplethic maps: definition, measurement, reduction. Annals of the Association of American Geographers, 61(2), 217-244.\n",
    "\n",
    "Jian, B. (2013) \"Head/Tail Breaks: A New Classification Scheme for Data with a Heavy-Tailed Distribution.\" *The Professional Geographer*, 65(3): 482-494.\n",
    "\n",
    "Jiang, Bin. (2015) \"Head/tail breaks for visualization of city\n",
    "structure and dynamics.\" *Cities*, 43: 69-77.\n",
    "\n",
    "Rey, S.J. and M.L. Guitierez. (2010)\n",
    "\"Interregional inequality dynamics in Mexico.\" *Spatial Economic Analysis*, 5:\n",
    "277-298."
   ]
  },
  {
   "cell_type": "markdown",
   "metadata": {},
   "source": [
    "---\n",
    "\n",
    "<a rel=\"license\" href=\"http://creativecommons.org/licenses/by-nc-nd/4.0/\"><img alt=\"Creative Commons License\" style=\"border-width:0\" src=\"https://i.creativecommons.org/l/by-nc-nd/4.0/88x31.png\" /></a><br />This work is licensed under a <a rel=\"license\" href=\"http://creativecommons.org/licenses/by-nc-nd/4.0/\">Creative Commons Attribution-NonCommercial-NoDerivatives 4.0 International License</a>."
   ]
  }
 ],
 "metadata": {
  "jupytext": {
   "formats": "ipynb,md"
  },
  "kernelspec": {
   "display_name": "Python 3",
   "language": "python",
   "name": "python3"
  },
  "language_info": {
   "codemirror_mode": {
    "name": "ipython",
    "version": 3
   },
   "file_extension": ".py",
   "mimetype": "text/x-python",
   "name": "python",
   "nbconvert_exporter": "python",
   "pygments_lexer": "ipython3",
   "version": "3.6.7"
  }
 },
 "nbformat": 4,
 "nbformat_minor": 2
}
